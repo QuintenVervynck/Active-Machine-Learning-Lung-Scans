{
 "cells": [
  {
   "cell_type": "markdown",
   "id": "e287fbf8",
   "metadata": {},
   "source": [
    "# VGG 16 with Active Learning"
   ]
  },
  {
   "cell_type": "markdown",
   "id": "9040bbbb",
   "metadata": {},
   "source": [
    "## Loading the dataset"
   ]
  },
  {
   "cell_type": "code",
   "execution_count": 9,
   "id": "ae19ea96-9afd-4874-91bc-65a583c8c9c3",
   "metadata": {},
   "outputs": [],
   "source": [
    "import numpy as np\n",
    "from datetime import datetime\n",
    "import matplotlib.pyplot as plt\n",
    "\n",
    "from lib.dataset import Dataset"
   ]
  },
  {
   "cell_type": "code",
   "execution_count": 10,
   "id": "0a3824b7-9553-449a-a1ac-c6a44380f0ab",
   "metadata": {},
   "outputs": [
    {
     "name": "stdout",
     "output_type": "stream",
     "text": [
      "Loading local preprocessed dataset...\n",
      "Finished\n"
     ]
    }
   ],
   "source": [
    "dataset = Dataset()"
   ]
  },
  {
   "cell_type": "code",
   "execution_count": 11,
   "id": "d0d9a8a5-5ba1-4bda-b111-957fa9089409",
   "metadata": {},
   "outputs": [
    {
     "name": "stdout",
     "output_type": "stream",
     "text": [
      "X_train shape: (3228, 224, 224, 3)\n",
      "X_test shape: (807, 224, 224, 3)\n",
      "y_train shape: (3228,)\n",
      "y_test shape: (807,)\n"
     ]
    }
   ],
   "source": [
    "X_train, X_test, y_train, y_test = dataset.split()"
   ]
  },
  {
   "cell_type": "code",
   "execution_count": 12,
   "id": "734bcd0b-0a32-489b-aed6-263e640d9b5e",
   "metadata": {},
   "outputs": [],
   "source": [
    "# Run cell to preview data\n",
    "#dataset.show_unprocessed_examples() # uncomment line"
   ]
  },
  {
   "cell_type": "code",
   "execution_count": 13,
   "id": "1e2d3fbe",
   "metadata": {},
   "outputs": [],
   "source": [
    "y_train_classlist = np.array(list(map(dataset.to_classlist, y_train)))"
   ]
  },
  {
   "cell_type": "code",
   "execution_count": 14,
   "id": "900d5010-f056-4c6d-8ad8-47b215c281ef",
   "metadata": {},
   "outputs": [],
   "source": [
    "y_test_classlist = np.array(list(map(dataset.to_classlist, y_test)))\n",
    "y_test_labels = np.array(list(map(dataset.to_label, y_test)))\n",
    "\n",
    "y_test_from_classlist = np.array(list(map(dataset.from_classlist, y_test_classlist)))\n",
    "y_test_from_labels = np.array(list(map(dataset.from_label, y_test_labels)))"
   ]
  },
  {
   "cell_type": "markdown",
   "id": "cb56341d",
   "metadata": {},
   "source": [
    "## Training the model with Active Learning"
   ]
  },
  {
   "cell_type": "code",
   "execution_count": 15,
   "id": "ca46f02f",
   "metadata": {},
   "outputs": [
    {
     "name": "stderr",
     "output_type": "stream",
     "text": [
      "2022-11-26 13:30:24.511900: I tensorflow/core/platform/cpu_feature_guard.cc:193] This TensorFlow binary is optimized with oneAPI Deep Neural Network Library (oneDNN) to use the following CPU instructions in performance-critical operations:  AVX2 AVX512F AVX512_VNNI FMA\n",
      "To enable them in other operations, rebuild TensorFlow with the appropriate compiler flags.\n",
      "2022-11-26 13:30:27.263364: I tensorflow/core/util/port.cc:104] oneDNN custom operations are on. You may see slightly different numerical results due to floating-point round-off errors from different computation orders. To turn them off, set the environment variable `TF_ENABLE_ONEDNN_OPTS=0`.\n",
      "2022-11-26 13:30:28.513568: W tensorflow/compiler/xla/stream_executor/platform/default/dso_loader.cc:64] Could not load dynamic library 'libcudart.so.11.0'; dlerror: libcudart.so.11.0: cannot open shared object file: No such file or directory; LD_LIBRARY_PATH: /apps/gent/RHEL8/cascadelake-ib/software/ZeroMQ/4.3.4-GCCcore-11.2.0/lib:/apps/gent/RHEL8/cascadelake-ib/software/util-linux/2.37-GCCcore-11.2.0/lib:/apps/gent/RHEL8/cascadelake-ib/software/libsodium/1.0.18-GCCcore-11.2.0/lib:/apps/gent/RHEL8/cascadelake-ib/software/OpenPGM/5.2.122-GCCcore-11.2.0/lib:/apps/gent/RHEL8/cascadelake-ib/software/Python/3.9.6-GCCcore-11.2.0/lib:/apps/gent/RHEL8/cascadelake-ib/software/OpenSSL/1.1/lib:/apps/gent/RHEL8/cascadelake-ib/software/libffi/3.4.2-GCCcore-11.2.0/lib64:/apps/gent/RHEL8/cascadelake-ib/software/GMP/6.2.1-GCCcore-11.2.0/lib:/apps/gent/RHEL8/cascadelake-ib/software/XZ/5.2.5-GCCcore-11.2.0/lib:/apps/gent/RHEL8/cascadelake-ib/software/SQLite/3.36-GCCcore-11.2.0/lib:/apps/gent/RHEL8/cascadelake-ib/software/Tcl/8.6.11-GCCcore-11.2.0/lib:/apps/gent/RHEL8/cascadelake-ib/software/libreadline/8.1-GCCcore-11.2.0/lib:/apps/gent/RHEL8/cascadelake-ib/software/ncurses/6.2-GCCcore-11.2.0/lib:/apps/gent/RHEL8/cascadelake-ib/software/bzip2/1.0.8-GCCcore-11.2.0/lib:/apps/gent/RHEL8/cascadelake-ib/software/binutils/2.37-GCCcore-11.2.0/lib:/apps/gent/RHEL8/cascadelake-ib/software/zlib/1.2.11-GCCcore-11.2.0/lib:/apps/gent/RHEL8/cascadelake-ib/software/GCCcore/11.2.0/lib64\n",
      "2022-11-26 13:30:28.513604: I tensorflow/compiler/xla/stream_executor/cuda/cudart_stub.cc:29] Ignore above cudart dlerror if you do not have a GPU set up on your machine.\n",
      "2022-11-26 13:30:45.059544: W tensorflow/compiler/xla/stream_executor/platform/default/dso_loader.cc:64] Could not load dynamic library 'libnvinfer.so.7'; dlerror: libnvinfer.so.7: cannot open shared object file: No such file or directory; LD_LIBRARY_PATH: /apps/gent/RHEL8/cascadelake-ib/software/ZeroMQ/4.3.4-GCCcore-11.2.0/lib:/apps/gent/RHEL8/cascadelake-ib/software/util-linux/2.37-GCCcore-11.2.0/lib:/apps/gent/RHEL8/cascadelake-ib/software/libsodium/1.0.18-GCCcore-11.2.0/lib:/apps/gent/RHEL8/cascadelake-ib/software/OpenPGM/5.2.122-GCCcore-11.2.0/lib:/apps/gent/RHEL8/cascadelake-ib/software/Python/3.9.6-GCCcore-11.2.0/lib:/apps/gent/RHEL8/cascadelake-ib/software/OpenSSL/1.1/lib:/apps/gent/RHEL8/cascadelake-ib/software/libffi/3.4.2-GCCcore-11.2.0/lib64:/apps/gent/RHEL8/cascadelake-ib/software/GMP/6.2.1-GCCcore-11.2.0/lib:/apps/gent/RHEL8/cascadelake-ib/software/XZ/5.2.5-GCCcore-11.2.0/lib:/apps/gent/RHEL8/cascadelake-ib/software/SQLite/3.36-GCCcore-11.2.0/lib:/apps/gent/RHEL8/cascadelake-ib/software/Tcl/8.6.11-GCCcore-11.2.0/lib:/apps/gent/RHEL8/cascadelake-ib/software/libreadline/8.1-GCCcore-11.2.0/lib:/apps/gent/RHEL8/cascadelake-ib/software/ncurses/6.2-GCCcore-11.2.0/lib:/apps/gent/RHEL8/cascadelake-ib/software/bzip2/1.0.8-GCCcore-11.2.0/lib:/apps/gent/RHEL8/cascadelake-ib/software/binutils/2.37-GCCcore-11.2.0/lib:/apps/gent/RHEL8/cascadelake-ib/software/zlib/1.2.11-GCCcore-11.2.0/lib:/apps/gent/RHEL8/cascadelake-ib/software/GCCcore/11.2.0/lib64\n",
      "2022-11-26 13:30:45.059792: W tensorflow/compiler/xla/stream_executor/platform/default/dso_loader.cc:64] Could not load dynamic library 'libnvinfer_plugin.so.7'; dlerror: libnvinfer_plugin.so.7: cannot open shared object file: No such file or directory; LD_LIBRARY_PATH: /apps/gent/RHEL8/cascadelake-ib/software/ZeroMQ/4.3.4-GCCcore-11.2.0/lib:/apps/gent/RHEL8/cascadelake-ib/software/util-linux/2.37-GCCcore-11.2.0/lib:/apps/gent/RHEL8/cascadelake-ib/software/libsodium/1.0.18-GCCcore-11.2.0/lib:/apps/gent/RHEL8/cascadelake-ib/software/OpenPGM/5.2.122-GCCcore-11.2.0/lib:/apps/gent/RHEL8/cascadelake-ib/software/Python/3.9.6-GCCcore-11.2.0/lib:/apps/gent/RHEL8/cascadelake-ib/software/OpenSSL/1.1/lib:/apps/gent/RHEL8/cascadelake-ib/software/libffi/3.4.2-GCCcore-11.2.0/lib64:/apps/gent/RHEL8/cascadelake-ib/software/GMP/6.2.1-GCCcore-11.2.0/lib:/apps/gent/RHEL8/cascadelake-ib/software/XZ/5.2.5-GCCcore-11.2.0/lib:/apps/gent/RHEL8/cascadelake-ib/software/SQLite/3.36-GCCcore-11.2.0/lib:/apps/gent/RHEL8/cascadelake-ib/software/Tcl/8.6.11-GCCcore-11.2.0/lib:/apps/gent/RHEL8/cascadelake-ib/software/libreadline/8.1-GCCcore-11.2.0/lib:/apps/gent/RHEL8/cascadelake-ib/software/ncurses/6.2-GCCcore-11.2.0/lib:/apps/gent/RHEL8/cascadelake-ib/software/bzip2/1.0.8-GCCcore-11.2.0/lib:/apps/gent/RHEL8/cascadelake-ib/software/binutils/2.37-GCCcore-11.2.0/lib:/apps/gent/RHEL8/cascadelake-ib/software/zlib/1.2.11-GCCcore-11.2.0/lib:/apps/gent/RHEL8/cascadelake-ib/software/GCCcore/11.2.0/lib64\n",
      "2022-11-26 13:30:45.059801: W tensorflow/compiler/tf2tensorrt/utils/py_utils.cc:38] TF-TRT Warning: Cannot dlopen some TensorRT libraries. If you would like to use Nvidia GPU with TensorRT, please make sure the missing libraries mentioned above are installed properly.\n",
      "2022-11-26 13:31:04.189697: W tensorflow/compiler/xla/stream_executor/platform/default/dso_loader.cc:64] Could not load dynamic library 'libcudart.so.11.0'; dlerror: libcudart.so.11.0: cannot open shared object file: No such file or directory; LD_LIBRARY_PATH: /apps/gent/RHEL8/cascadelake-ib/software/ZeroMQ/4.3.4-GCCcore-11.2.0/lib:/apps/gent/RHEL8/cascadelake-ib/software/util-linux/2.37-GCCcore-11.2.0/lib:/apps/gent/RHEL8/cascadelake-ib/software/libsodium/1.0.18-GCCcore-11.2.0/lib:/apps/gent/RHEL8/cascadelake-ib/software/OpenPGM/5.2.122-GCCcore-11.2.0/lib:/apps/gent/RHEL8/cascadelake-ib/software/Python/3.9.6-GCCcore-11.2.0/lib:/apps/gent/RHEL8/cascadelake-ib/software/OpenSSL/1.1/lib:/apps/gent/RHEL8/cascadelake-ib/software/libffi/3.4.2-GCCcore-11.2.0/lib64:/apps/gent/RHEL8/cascadelake-ib/software/GMP/6.2.1-GCCcore-11.2.0/lib:/apps/gent/RHEL8/cascadelake-ib/software/XZ/5.2.5-GCCcore-11.2.0/lib:/apps/gent/RHEL8/cascadelake-ib/software/SQLite/3.36-GCCcore-11.2.0/lib:/apps/gent/RHEL8/cascadelake-ib/software/Tcl/8.6.11-GCCcore-11.2.0/lib:/apps/gent/RHEL8/cascadelake-ib/software/libreadline/8.1-GCCcore-11.2.0/lib:/apps/gent/RHEL8/cascadelake-ib/software/ncurses/6.2-GCCcore-11.2.0/lib:/apps/gent/RHEL8/cascadelake-ib/software/bzip2/1.0.8-GCCcore-11.2.0/lib:/apps/gent/RHEL8/cascadelake-ib/software/binutils/2.37-GCCcore-11.2.0/lib:/apps/gent/RHEL8/cascadelake-ib/software/zlib/1.2.11-GCCcore-11.2.0/lib:/apps/gent/RHEL8/cascadelake-ib/software/GCCcore/11.2.0/lib64\n",
      "2022-11-26 13:31:04.189973: W tensorflow/compiler/xla/stream_executor/platform/default/dso_loader.cc:64] Could not load dynamic library 'libcublas.so.11'; dlerror: libcublas.so.11: cannot open shared object file: No such file or directory; LD_LIBRARY_PATH: /apps/gent/RHEL8/cascadelake-ib/software/ZeroMQ/4.3.4-GCCcore-11.2.0/lib:/apps/gent/RHEL8/cascadelake-ib/software/util-linux/2.37-GCCcore-11.2.0/lib:/apps/gent/RHEL8/cascadelake-ib/software/libsodium/1.0.18-GCCcore-11.2.0/lib:/apps/gent/RHEL8/cascadelake-ib/software/OpenPGM/5.2.122-GCCcore-11.2.0/lib:/apps/gent/RHEL8/cascadelake-ib/software/Python/3.9.6-GCCcore-11.2.0/lib:/apps/gent/RHEL8/cascadelake-ib/software/OpenSSL/1.1/lib:/apps/gent/RHEL8/cascadelake-ib/software/libffi/3.4.2-GCCcore-11.2.0/lib64:/apps/gent/RHEL8/cascadelake-ib/software/GMP/6.2.1-GCCcore-11.2.0/lib:/apps/gent/RHEL8/cascadelake-ib/software/XZ/5.2.5-GCCcore-11.2.0/lib:/apps/gent/RHEL8/cascadelake-ib/software/SQLite/3.36-GCCcore-11.2.0/lib:/apps/gent/RHEL8/cascadelake-ib/software/Tcl/8.6.11-GCCcore-11.2.0/lib:/apps/gent/RHEL8/cascadelake-ib/software/libreadline/8.1-GCCcore-11.2.0/lib:/apps/gent/RHEL8/cascadelake-ib/software/ncurses/6.2-GCCcore-11.2.0/lib:/apps/gent/RHEL8/cascadelake-ib/software/bzip2/1.0.8-GCCcore-11.2.0/lib:/apps/gent/RHEL8/cascadelake-ib/software/binutils/2.37-GCCcore-11.2.0/lib:/apps/gent/RHEL8/cascadelake-ib/software/zlib/1.2.11-GCCcore-11.2.0/lib:/apps/gent/RHEL8/cascadelake-ib/software/GCCcore/11.2.0/lib64\n",
      "2022-11-26 13:31:04.190151: W tensorflow/compiler/xla/stream_executor/platform/default/dso_loader.cc:64] Could not load dynamic library 'libcublasLt.so.11'; dlerror: libcublasLt.so.11: cannot open shared object file: No such file or directory; LD_LIBRARY_PATH: /apps/gent/RHEL8/cascadelake-ib/software/ZeroMQ/4.3.4-GCCcore-11.2.0/lib:/apps/gent/RHEL8/cascadelake-ib/software/util-linux/2.37-GCCcore-11.2.0/lib:/apps/gent/RHEL8/cascadelake-ib/software/libsodium/1.0.18-GCCcore-11.2.0/lib:/apps/gent/RHEL8/cascadelake-ib/software/OpenPGM/5.2.122-GCCcore-11.2.0/lib:/apps/gent/RHEL8/cascadelake-ib/software/Python/3.9.6-GCCcore-11.2.0/lib:/apps/gent/RHEL8/cascadelake-ib/software/OpenSSL/1.1/lib:/apps/gent/RHEL8/cascadelake-ib/software/libffi/3.4.2-GCCcore-11.2.0/lib64:/apps/gent/RHEL8/cascadelake-ib/software/GMP/6.2.1-GCCcore-11.2.0/lib:/apps/gent/RHEL8/cascadelake-ib/software/XZ/5.2.5-GCCcore-11.2.0/lib:/apps/gent/RHEL8/cascadelake-ib/software/SQLite/3.36-GCCcore-11.2.0/lib:/apps/gent/RHEL8/cascadelake-ib/software/Tcl/8.6.11-GCCcore-11.2.0/lib:/apps/gent/RHEL8/cascadelake-ib/software/libreadline/8.1-GCCcore-11.2.0/lib:/apps/gent/RHEL8/cascadelake-ib/software/ncurses/6.2-GCCcore-11.2.0/lib:/apps/gent/RHEL8/cascadelake-ib/software/bzip2/1.0.8-GCCcore-11.2.0/lib:/apps/gent/RHEL8/cascadelake-ib/software/binutils/2.37-GCCcore-11.2.0/lib:/apps/gent/RHEL8/cascadelake-ib/software/zlib/1.2.11-GCCcore-11.2.0/lib:/apps/gent/RHEL8/cascadelake-ib/software/GCCcore/11.2.0/lib64\n",
      "2022-11-26 13:31:04.190320: W tensorflow/compiler/xla/stream_executor/platform/default/dso_loader.cc:64] Could not load dynamic library 'libcufft.so.10'; dlerror: libcufft.so.10: cannot open shared object file: No such file or directory; LD_LIBRARY_PATH: /apps/gent/RHEL8/cascadelake-ib/software/ZeroMQ/4.3.4-GCCcore-11.2.0/lib:/apps/gent/RHEL8/cascadelake-ib/software/util-linux/2.37-GCCcore-11.2.0/lib:/apps/gent/RHEL8/cascadelake-ib/software/libsodium/1.0.18-GCCcore-11.2.0/lib:/apps/gent/RHEL8/cascadelake-ib/software/OpenPGM/5.2.122-GCCcore-11.2.0/lib:/apps/gent/RHEL8/cascadelake-ib/software/Python/3.9.6-GCCcore-11.2.0/lib:/apps/gent/RHEL8/cascadelake-ib/software/OpenSSL/1.1/lib:/apps/gent/RHEL8/cascadelake-ib/software/libffi/3.4.2-GCCcore-11.2.0/lib64:/apps/gent/RHEL8/cascadelake-ib/software/GMP/6.2.1-GCCcore-11.2.0/lib:/apps/gent/RHEL8/cascadelake-ib/software/XZ/5.2.5-GCCcore-11.2.0/lib:/apps/gent/RHEL8/cascadelake-ib/software/SQLite/3.36-GCCcore-11.2.0/lib:/apps/gent/RHEL8/cascadelake-ib/software/Tcl/8.6.11-GCCcore-11.2.0/lib:/apps/gent/RHEL8/cascadelake-ib/software/libreadline/8.1-GCCcore-11.2.0/lib:/apps/gent/RHEL8/cascadelake-ib/software/ncurses/6.2-GCCcore-11.2.0/lib:/apps/gent/RHEL8/cascadelake-ib/software/bzip2/1.0.8-GCCcore-11.2.0/lib:/apps/gent/RHEL8/cascadelake-ib/software/binutils/2.37-GCCcore-11.2.0/lib:/apps/gent/RHEL8/cascadelake-ib/software/zlib/1.2.11-GCCcore-11.2.0/lib:/apps/gent/RHEL8/cascadelake-ib/software/GCCcore/11.2.0/lib64\n",
      "2022-11-26 13:31:04.190501: W tensorflow/compiler/xla/stream_executor/platform/default/dso_loader.cc:64] Could not load dynamic library 'libcurand.so.10'; dlerror: libcurand.so.10: cannot open shared object file: No such file or directory; LD_LIBRARY_PATH: /apps/gent/RHEL8/cascadelake-ib/software/ZeroMQ/4.3.4-GCCcore-11.2.0/lib:/apps/gent/RHEL8/cascadelake-ib/software/util-linux/2.37-GCCcore-11.2.0/lib:/apps/gent/RHEL8/cascadelake-ib/software/libsodium/1.0.18-GCCcore-11.2.0/lib:/apps/gent/RHEL8/cascadelake-ib/software/OpenPGM/5.2.122-GCCcore-11.2.0/lib:/apps/gent/RHEL8/cascadelake-ib/software/Python/3.9.6-GCCcore-11.2.0/lib:/apps/gent/RHEL8/cascadelake-ib/software/OpenSSL/1.1/lib:/apps/gent/RHEL8/cascadelake-ib/software/libffi/3.4.2-GCCcore-11.2.0/lib64:/apps/gent/RHEL8/cascadelake-ib/software/GMP/6.2.1-GCCcore-11.2.0/lib:/apps/gent/RHEL8/cascadelake-ib/software/XZ/5.2.5-GCCcore-11.2.0/lib:/apps/gent/RHEL8/cascadelake-ib/software/SQLite/3.36-GCCcore-11.2.0/lib:/apps/gent/RHEL8/cascadelake-ib/software/Tcl/8.6.11-GCCcore-11.2.0/lib:/apps/gent/RHEL8/cascadelake-ib/software/libreadline/8.1-GCCcore-11.2.0/lib:/apps/gent/RHEL8/cascadelake-ib/software/ncurses/6.2-GCCcore-11.2.0/lib:/apps/gent/RHEL8/cascadelake-ib/software/bzip2/1.0.8-GCCcore-11.2.0/lib:/apps/gent/RHEL8/cascadelake-ib/software/binutils/2.37-GCCcore-11.2.0/lib:/apps/gent/RHEL8/cascadelake-ib/software/zlib/1.2.11-GCCcore-11.2.0/lib:/apps/gent/RHEL8/cascadelake-ib/software/GCCcore/11.2.0/lib64\n",
      "2022-11-26 13:31:04.190671: W tensorflow/compiler/xla/stream_executor/platform/default/dso_loader.cc:64] Could not load dynamic library 'libcusolver.so.11'; dlerror: libcusolver.so.11: cannot open shared object file: No such file or directory; LD_LIBRARY_PATH: /apps/gent/RHEL8/cascadelake-ib/software/ZeroMQ/4.3.4-GCCcore-11.2.0/lib:/apps/gent/RHEL8/cascadelake-ib/software/util-linux/2.37-GCCcore-11.2.0/lib:/apps/gent/RHEL8/cascadelake-ib/software/libsodium/1.0.18-GCCcore-11.2.0/lib:/apps/gent/RHEL8/cascadelake-ib/software/OpenPGM/5.2.122-GCCcore-11.2.0/lib:/apps/gent/RHEL8/cascadelake-ib/software/Python/3.9.6-GCCcore-11.2.0/lib:/apps/gent/RHEL8/cascadelake-ib/software/OpenSSL/1.1/lib:/apps/gent/RHEL8/cascadelake-ib/software/libffi/3.4.2-GCCcore-11.2.0/lib64:/apps/gent/RHEL8/cascadelake-ib/software/GMP/6.2.1-GCCcore-11.2.0/lib:/apps/gent/RHEL8/cascadelake-ib/software/XZ/5.2.5-GCCcore-11.2.0/lib:/apps/gent/RHEL8/cascadelake-ib/software/SQLite/3.36-GCCcore-11.2.0/lib:/apps/gent/RHEL8/cascadelake-ib/software/Tcl/8.6.11-GCCcore-11.2.0/lib:/apps/gent/RHEL8/cascadelake-ib/software/libreadline/8.1-GCCcore-11.2.0/lib:/apps/gent/RHEL8/cascadelake-ib/software/ncurses/6.2-GCCcore-11.2.0/lib:/apps/gent/RHEL8/cascadelake-ib/software/bzip2/1.0.8-GCCcore-11.2.0/lib:/apps/gent/RHEL8/cascadelake-ib/software/binutils/2.37-GCCcore-11.2.0/lib:/apps/gent/RHEL8/cascadelake-ib/software/zlib/1.2.11-GCCcore-11.2.0/lib:/apps/gent/RHEL8/cascadelake-ib/software/GCCcore/11.2.0/lib64\n",
      "2022-11-26 13:31:04.190841: W tensorflow/compiler/xla/stream_executor/platform/default/dso_loader.cc:64] Could not load dynamic library 'libcusparse.so.11'; dlerror: libcusparse.so.11: cannot open shared object file: No such file or directory; LD_LIBRARY_PATH: /apps/gent/RHEL8/cascadelake-ib/software/ZeroMQ/4.3.4-GCCcore-11.2.0/lib:/apps/gent/RHEL8/cascadelake-ib/software/util-linux/2.37-GCCcore-11.2.0/lib:/apps/gent/RHEL8/cascadelake-ib/software/libsodium/1.0.18-GCCcore-11.2.0/lib:/apps/gent/RHEL8/cascadelake-ib/software/OpenPGM/5.2.122-GCCcore-11.2.0/lib:/apps/gent/RHEL8/cascadelake-ib/software/Python/3.9.6-GCCcore-11.2.0/lib:/apps/gent/RHEL8/cascadelake-ib/software/OpenSSL/1.1/lib:/apps/gent/RHEL8/cascadelake-ib/software/libffi/3.4.2-GCCcore-11.2.0/lib64:/apps/gent/RHEL8/cascadelake-ib/software/GMP/6.2.1-GCCcore-11.2.0/lib:/apps/gent/RHEL8/cascadelake-ib/software/XZ/5.2.5-GCCcore-11.2.0/lib:/apps/gent/RHEL8/cascadelake-ib/software/SQLite/3.36-GCCcore-11.2.0/lib:/apps/gent/RHEL8/cascadelake-ib/software/Tcl/8.6.11-GCCcore-11.2.0/lib:/apps/gent/RHEL8/cascadelake-ib/software/libreadline/8.1-GCCcore-11.2.0/lib:/apps/gent/RHEL8/cascadelake-ib/software/ncurses/6.2-GCCcore-11.2.0/lib:/apps/gent/RHEL8/cascadelake-ib/software/bzip2/1.0.8-GCCcore-11.2.0/lib:/apps/gent/RHEL8/cascadelake-ib/software/binutils/2.37-GCCcore-11.2.0/lib:/apps/gent/RHEL8/cascadelake-ib/software/zlib/1.2.11-GCCcore-11.2.0/lib:/apps/gent/RHEL8/cascadelake-ib/software/GCCcore/11.2.0/lib64\n",
      "2022-11-26 13:31:04.191005: W tensorflow/compiler/xla/stream_executor/platform/default/dso_loader.cc:64] Could not load dynamic library 'libcudnn.so.8'; dlerror: libcudnn.so.8: cannot open shared object file: No such file or directory; LD_LIBRARY_PATH: /apps/gent/RHEL8/cascadelake-ib/software/ZeroMQ/4.3.4-GCCcore-11.2.0/lib:/apps/gent/RHEL8/cascadelake-ib/software/util-linux/2.37-GCCcore-11.2.0/lib:/apps/gent/RHEL8/cascadelake-ib/software/libsodium/1.0.18-GCCcore-11.2.0/lib:/apps/gent/RHEL8/cascadelake-ib/software/OpenPGM/5.2.122-GCCcore-11.2.0/lib:/apps/gent/RHEL8/cascadelake-ib/software/Python/3.9.6-GCCcore-11.2.0/lib:/apps/gent/RHEL8/cascadelake-ib/software/OpenSSL/1.1/lib:/apps/gent/RHEL8/cascadelake-ib/software/libffi/3.4.2-GCCcore-11.2.0/lib64:/apps/gent/RHEL8/cascadelake-ib/software/GMP/6.2.1-GCCcore-11.2.0/lib:/apps/gent/RHEL8/cascadelake-ib/software/XZ/5.2.5-GCCcore-11.2.0/lib:/apps/gent/RHEL8/cascadelake-ib/software/SQLite/3.36-GCCcore-11.2.0/lib:/apps/gent/RHEL8/cascadelake-ib/software/Tcl/8.6.11-GCCcore-11.2.0/lib:/apps/gent/RHEL8/cascadelake-ib/software/libreadline/8.1-GCCcore-11.2.0/lib:/apps/gent/RHEL8/cascadelake-ib/software/ncurses/6.2-GCCcore-11.2.0/lib:/apps/gent/RHEL8/cascadelake-ib/software/bzip2/1.0.8-GCCcore-11.2.0/lib:/apps/gent/RHEL8/cascadelake-ib/software/binutils/2.37-GCCcore-11.2.0/lib:/apps/gent/RHEL8/cascadelake-ib/software/zlib/1.2.11-GCCcore-11.2.0/lib:/apps/gent/RHEL8/cascadelake-ib/software/GCCcore/11.2.0/lib64\n",
      "2022-11-26 13:31:04.191029: W tensorflow/core/common_runtime/gpu/gpu_device.cc:1934] Cannot dlopen some GPU libraries. Please make sure the missing libraries mentioned above are installed properly if you would like to use GPU. Follow the guide at https://www.tensorflow.org/install/gpu for how to download and setup the required libraries for your platform.\n",
      "Skipping registering GPU devices...\n",
      "2022-11-26 13:31:04.191463: I tensorflow/core/platform/cpu_feature_guard.cc:193] This TensorFlow binary is optimized with oneAPI Deep Neural Network Library (oneDNN) to use the following CPU instructions in performance-critical operations:  AVX2 AVX512F AVX512_VNNI FMA\n",
      "To enable them in other operations, rebuild TensorFlow with the appropriate compiler flags.\n"
     ]
    }
   ],
   "source": [
    "%%capture --no-display\n",
    "from keras.applications.vgg16 import VGG16\n",
    "from tensorflow.keras.optimizers import Adam\n",
    "from tensorflow.keras.losses import categorical_crossentropy\n",
    "\n",
    "\n",
    "model = VGG16(weights=None, classes=3)\n",
    "opt = Adam(learning_rate=0.001)\n",
    "model.compile(optimizer=opt, loss=categorical_crossentropy, metrics=['accuracy']);"
   ]
  },
  {
   "cell_type": "code",
   "execution_count": 16,
   "id": "5581a63e",
   "metadata": {},
   "outputs": [
    {
     "name": "stdout",
     "output_type": "stream",
     "text": [
      "1/1 [==============================] - 14s 14s/step - loss: 1.1463 - accuracy: 0.0000e+00\n",
      "101/101 [==============================] - 673s 7s/step\n"
     ]
    }
   ],
   "source": [
    "# Fit model on first 100 images\n",
    "idxs = [i for i in range(128)]\n",
    "used = np.array(idxs)\n",
    "model.fit(x=X_train[idxs], y=y_train_classlist[idxs], epochs=10, batch_size=64)\n",
    "X_train = np.delete(X_train, idxs, axis=0)\n",
    "y_train_classlist = np.delete(y_train_classlist, idxs, axis=0)\n",
    "X_pred = model.predict(X_train)"
   ]
  },
  {
   "cell_type": "code",
   "execution_count": null,
   "id": "5f7f37ab",
   "metadata": {},
   "outputs": [
    {
     "name": "stdout",
     "output_type": "stream",
     "text": [
      "Performing 10 iterations with 128 queried images\n",
      "Epoch 1/10\n"
     ]
    }
   ],
   "source": [
    "# Perform Active learning\n",
    "iterations = 10\n",
    "query_size = 128\n",
    "epochs = 10\n",
    "batch_size = 64\n",
    "\n",
    "print(f\"Performing {iterations} iterations with {query_size} queried images\")\n",
    "\n",
    "for _ in range(iterations):\n",
    "    idxs = np.max(X_pred, axis=1).argsort()\n",
    "    used = np.concatenate((used, idxs[:query_size]))\n",
    "    model.fit(x=X_train[idxs[:query_size]], y=y_train_classlist[idxs[:query_size]], epochs=epochs, batch_size=batch_size)\n",
    "    X_train = np.delete(X_train, idxs[:query_size], axis=0)\n",
    "    y_train_classlist = np.delete(y_train_classlist, idxs[:query_size], axis=0)\n",
    "    X_pred = model.predict(X_train)"
   ]
  },
  {
   "cell_type": "code",
   "execution_count": 17,
   "id": "4ccb5d50",
   "metadata": {},
   "outputs": [],
   "source": [
    "# Save model\n",
    "model.save(\"models/\" + str(datetime.now().isoformat(\"-\", \"minutes\")) + \".h5\")"
   ]
  },
  {
   "cell_type": "code",
   "execution_count": 19,
   "id": "8923af14",
   "metadata": {},
   "outputs": [
    {
     "data": {
      "text/plain": [
       "([<matplotlib.axis.XTick at 0x14a5b3f959a0>,\n",
       "  <matplotlib.axis.XTick at 0x14a5b3f95970>,\n",
       "  <matplotlib.axis.XTick at 0x14a5b3f958b0>],\n",
       " [Text(0, 0, 'COVID'), Text(1, 0, 'Normal'), Text(2, 0, 'Viral Pneumonia')])"
      ]
     },
     "execution_count": 19,
     "metadata": {},
     "output_type": "execute_result"
    },
    {
     "data": {
      "image/png": "[encoded data removed]",
      "text/plain": [
       "<Figure size 432x288 with 1 Axes>"
      ]
     },
     "metadata": {
      "needs_background": "light"
     },
     "output_type": "display_data"
    }
   ],
   "source": [
    "# Show histogram of used classes\n",
    "y_train_labels = np.array(list(map(dataset.to_label, y_train)))\n",
    "\n",
    "labels, counts = np.unique(y_train_labels[used], return_counts=True)\n",
    "ticks = range(len(counts))\n",
    "plt.bar(ticks, counts, align='center')\n",
    "plt.xticks(ticks, labels)"
   ]
  }
 ],
 "metadata": {
  "kernelspec": {
   "display_name": "Python 3 (ipykernel)",
   "language": "python",
   "name": "python3"
  },
  "language_info": {
   "codemirror_mode": {
    "name": "ipython",
    "version": 3
   },
   "file_extension": ".py",
   "mimetype": "text/x-python",
   "name": "python",
   "nbconvert_exporter": "python",
   "pygments_lexer": "ipython3",
   "version": "3.9.6"
  }
 },
 "nbformat": 4,
 "nbformat_minor": 5
}
