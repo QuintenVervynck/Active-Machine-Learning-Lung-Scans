{
 "cells": [
  {
   "cell_type": "markdown",
   "metadata": {
    "tags": []
   },
   "source": [
    "# 1. Taking a look at our dataset"
   ]
  },
  {
   "cell_type": "markdown",
   "metadata": {},
   "source": [
    "for convenience we've made some helping tools:\n",
    "- a function to download / initialize the data\n",
    "- a function to enhance the data\n",
    "- a class that handles the dataset functionality"
   ]
  },
  {
   "cell_type": "markdown",
   "metadata": {
    "jp-MarkdownHeadingCollapsed": true,
    "tags": []
   },
   "source": [
    "## Downloading / initializing the data"
   ]
  },
  {
   "cell_type": "code",
   "execution_count": null,
   "metadata": {},
   "outputs": [],
   "source": [
    "import multiprocessing as mlp\n",
    "import os\n",
    "import shutil\n",
    "import zipfile\n",
    "import matplotlib.pyplot as plt\n",
    "import numpy as np\n",
    "from PIL import Image\n",
    "from sklearn.model_selection import train_test_split\n",
    "os.environ['KAGGLE_USERNAME'] = 'dumpstertrash'\n",
    "os.environ['KAGGLE_KEY'] = 'fc29a78761d58a50c7b50d71f3f3a3f2'\n",
    "from kaggle.api.kaggle_api_extended import KaggleApi\n",
    "from lib.xray.clahe import CLAHE\n",
    "\n",
    "\n",
    "def initialize_dataset():\n",
    "    names = [\"COVID\", \"Normal\", \"Viral Pneumonia\"]\n",
    "    print(\"Downloading...\")\n",
    "    api = KaggleApi()\n",
    "    # env vars are set (see top of this file)\n",
    "    api.authenticate()\n",
    "    api.dataset_download_files('tawsifurrahman/covid19-radiography-database', path=\"./dataset\")\n",
    "    print(\"Unzipping...\")\n",
    "    with zipfile.ZipFile(f\"./dataset/covid19-radiography-database.zip\",\"r\") as zip_ref:\n",
    "        zip_ref.extractall(f\"./dataset/\")\n",
    "    os.remove(\"./dataset/covid19-radiography-database.zip\")\n",
    "        \n",
    "    print(f\"Setting up the directory structure...\")\n",
    "    for name in names:\n",
    "        os.mkdir(f\"dataset/{name}\")\n",
    "        for version in [\"images\", \"masks\"]:\n",
    "            os.mkdir(f\"dataset/{name}/{version}\")\n",
    "            file_list = [f\"{file}\" for file in os.listdir(f\"./dataset/COVID-19_Radiography_Dataset/{name}/{version}\")]\n",
    "            file_list.sort(key=lambda f: int(''.join(filter(str.isdigit, f))))\n",
    "\n",
    "            file_list = file_list[:1345] # take first 1345 files\n",
    "            \n",
    "            for file in file_list:\n",
    "                try:\n",
    "                    os.rename(f\"./dataset/COVID-19_Radiography_Dataset/{name}/{version}/{file}\", f\"./dataset/{name}/{version}/{file}\")\n",
    "                except:\n",
    "                    print(\"Error while moving file : \", file)\n",
    "    print(\"Removing the old database\")\n",
    "    shutil.rmtree(\"./dataset/COVID-19_Radiography_Dataset\")\n",
    "    \n",
    "    print(f\"Converting size of the images and masks to 244x244x3\")\n",
    "    for name in names:\n",
    "        for file in os.listdir(f\"./dataset/{name}/images\"):\n",
    "            img_path = f\"./dataset/{name}/images/{file}\"\n",
    "            mask_path = f\"./dataset/{name}/masks/{file}\"\n",
    "\n",
    "            image = plt.imread(img_path)\n",
    "\n",
    "            # Some images are not 8 bit, so we convert them\n",
    "            if (len(image.shape) != 2):\n",
    "                img = Image.open(img_path)\n",
    "                new_img = img.convert(\"L\")\n",
    "                new_img.save(img_path)\n",
    "\n",
    "            # Convert image to 224,224,3\n",
    "            img = Image.open(f\"./dataset/{name}/images/{file}\")\n",
    "            new_img = img.convert(\"RGB\")\n",
    "            new_img = new_img.resize(size=(224, 224))\n",
    "            new_img.save(img_path)\n",
    "\n",
    "            # Convert mask to 224,224,3\n",
    "            msk = Image.open(mask_path)\n",
    "            new_msk = msk.resize(size=(224, 224))\n",
    "            new_msk.save(mask_path)\n",
    "\n",
    "    print(\"Applying the masks on the images...\")\n",
    "    X = np.zeros((1345*3, 224, 224, 3), dtype=np.float32)\n",
    "    index = 0\n",
    "    for name in names:\n",
    "        for file in os.listdir(f\"./dataset/{name}/images\"):\n",
    "            img = Image.open(f\"./dataset/{name}/images/{file}\") # Reads in uint8\n",
    "\n",
    "            # change grey to rgb\n",
    "            if img.mode == \"L\":\n",
    "                img = img.convert(\"RGB\")\n",
    "            \n",
    "            new_img = np.array(img).astype(np.float32)\n",
    "            new_img /= 255\n",
    "                \n",
    "            np_image = np.array(new_img)\n",
    "            np_mask = plt.imread(f\"./dataset/{name}/masks/{file}\") # Reads in float32\n",
    "            # Apply the mask\n",
    "            new_image = np.multiply(np_image, np_mask)\n",
    "            # save to array\n",
    "            X[index] = new_image\n",
    "            index += 1\n",
    "    print(\"Gathering the labels...\")\n",
    "    y = np.concatenate([np.array([name] * len(os.listdir(f\"./dataset/{name}/images\"))) for name in names])\n",
    "    def from_label(x:str):\n",
    "        return names.index(x)\n",
    "    y = np.array(list(map(from_label, y))) # map labels to ints of labels\n",
    "\n",
    "    print(f\"Saving the preprocessed dataset...\")\n",
    "    np.save(f\"./dataset/x.npy\", X)\n",
    "    np.save(f\"./dataset/y.npy\", y)\n",
    "    \n",
    "\n"
   ]
  },
  {
   "cell_type": "markdown",
   "metadata": {
    "jp-MarkdownHeadingCollapsed": true,
    "tags": []
   },
   "source": [
    "## Enhancing the data"
   ]
  },
  {
   "cell_type": "code",
   "execution_count": 2,
   "metadata": {},
   "outputs": [],
   "source": [
    "import multiprocessing as mlp\n",
    "import os\n",
    "import shutil\n",
    "import zipfile\n",
    "import matplotlib.pyplot as plt\n",
    "import numpy as np\n",
    "from PIL import Image\n",
    "from sklearn.model_selection import train_test_split\n",
    "os.environ['KAGGLE_USERNAME'] = 'dumpstertrash'\n",
    "os.environ['KAGGLE_KEY'] = 'fc29a78761d58a50c7b50d71f3f3a3f2'\n",
    "from kaggle.api.kaggle_api_extended import KaggleApi\n",
    "from lib.xray.clahe import CLAHE\n",
    "\n",
    "# helper function\n",
    "def enhance(files, name):\n",
    "    for file in files:\n",
    "        CLAHE(f\"./dataset/{name}/images/{file}\", f\"./enhanced/{name}/images\", 100, 150, 1).run()\n",
    "\n",
    "# function that enhances the dataset\n",
    "def enhance_dataset():\n",
    "    names = [\"COVID\", \"Normal\", \"Viral Pneumonia\"]\n",
    "    processes = []\n",
    "    cores = (mlp.cpu_count() - 2) // 3\n",
    "    print(f\"Using {cores * 3} cores to enhance images\")\n",
    "    \n",
    "    os.mkdir(\"./enhanced\")\n",
    "\n",
    "    for name in names:\n",
    "        print(f\"Enhancing: {name}\")\n",
    "        os.mkdir(f\"./enhanced/{name}\")\n",
    "        os.mkdir(f\"./enhanced/{name}/images\")\n",
    "        shutil.copytree(f\"./dataset/{name}/masks\", f\"./enhanced/{name}/masks\")\n",
    "        for files in np.array_split(os.listdir(f\"./dataset/{name}/images\"), cores):\n",
    "            p = mlp.Process(target=enhance, args=(files, name))\n",
    "            p.start()\n",
    "            processes.append(p)\n",
    "\n",
    "    print(f\"Made a total of {len(processes)} processes to enhance images\")\n",
    "    for process in processes:\n",
    "        process.join()\n",
    "        \n",
    "    print(f\"Converting size of the images and masks to 244x244x3\")\n",
    "    for name in names:\n",
    "        for file in os.listdir(f\"./enhanced/{name}/images\"):\n",
    "            img_path = f\"./enhanced/{name}/images/{file}\"\n",
    "            mask_path = f\"./enhanced/{name}/masks/{file}\"\n",
    "\n",
    "            image = plt.imread(img_path)\n",
    "\n",
    "            # Some images are not 8 bit, so we convert them\n",
    "            if (len(image.shape) != 2):\n",
    "                img = Image.open(img_path)\n",
    "                new_img = img.convert(\"L\")\n",
    "                new_img.save(img_path)\n",
    "                \n",
    "            # Convert image to 224,224,3\n",
    "            img = Image.open(img_path)\n",
    "            new_img = img.convert(\"RGB\")\n",
    "            new_img = new_img.resize(size=(224, 224))\n",
    "            new_img.save(img_path)\n",
    "            \n",
    "            # Convert mask to 224,224,3\n",
    "            msk = Image.open(mask_path)\n",
    "            new_msk = msk.resize(size=(224, 224))\n",
    "            new_msk.save(mask_path)\n",
    "\n",
    "    print(\"Applying the masks on the images...\")\n",
    "    X = np.zeros((1345*3, 224, 224, 3), dtype=np.float32)\n",
    "    index = 0\n",
    "    for name in names:\n",
    "        for file in os.listdir(f\"./enhanced/{name}/images\"):\n",
    "            img = Image.open(f\"./enhanced/{name}/images/{file}\")\n",
    "\n",
    "            # change grey to rgb\n",
    "            if img.mode == \"L\":\n",
    "                img = img.convert(\"RGB\")\n",
    "            \n",
    "            new_img = np.array(img).astype(np.float32)\n",
    "            new_img /= 255\n",
    "                \n",
    "            np_image = np.array(new_img)\n",
    "            np_mask = plt.imread(f\"./enhanced/{name}/masks/{file}\") # Reads in float32\n",
    "            # Apply the mask\n",
    "            new_image = np.multiply(np_image, np_mask)\n",
    "            # save to array\n",
    "            X[index] = new_image\n",
    "            index += 1\n",
    "    print(\"Gathering the labels...\")\n",
    "    y = np.concatenate([np.array([name] * len(os.listdir(f\"./enhanced/{name}/images\"))) for name in names])\n",
    "    def from_label(x:str):\n",
    "        return names.index(x)\n",
    "    y = np.array(list(map(from_label, y))) # map labels to ints of labels\n",
    "    \n",
    "    print(f\"Saving the preprocessed dataset...\")\n",
    "    np.save(f\"./enhanced/x.npy\", X)\n",
    "    np.save(f\"./enhanced/y.npy\", y)"
   ]
  },
  {
   "cell_type": "markdown",
   "metadata": {
    "tags": []
   },
   "source": [
    "## Dataset functionality class"
   ]
  },
  {
   "cell_type": "code",
   "execution_count": 7,
   "metadata": {},
   "outputs": [],
   "source": [
    "import matplotlib.pyplot as plt\n",
    "import numpy as np\n",
    "from sklearn.model_selection import train_test_split\n",
    "\n",
    "class Dataset():\n",
    "    def __init__(self, path):\n",
    "        self.path = path\n",
    "        self.versions = [\"images\", \"masks\"]\n",
    "        self.class_length = 1345\n",
    "        self.data = {}\n",
    "        self.size = 0\n",
    "        self.names = [\"COVID\", \"Normal\", \"Viral Pneumonia\"]\n",
    "        self.X = None\n",
    "        self.y = None\n",
    "        \n",
    "    def load_local(self):\n",
    "        self.X = np.load(f\"{self.path}/x.npy\")\n",
    "        self.y = np.load(f\"{self.path}/y.npy\")\n",
    "        self.X_train, self.X_test, self.y_train, self.y_test = train_test_split(\n",
    "            self.X, \n",
    "            self.y, \n",
    "            train_size=0.85, \n",
    "            shuffle=True,\n",
    "            random_state=42\n",
    "        )\n",
    "        self.size = self.X_train.shape[0]\n",
    "        return self\n",
    "        \n",
    "    def split(self):\n",
    "        return self.X_train, self.X_test, self.y_train, self.y_test\n",
    "\n",
    "    def to_label(self, x:int):\n",
    "        return self.names[x]\n",
    "    \n",
    "    def from_label(self, x:str):\n",
    "        return self.names.index()\n",
    "    \n",
    "    def to_classlist(self, x:int):\n",
    "        l = [0.0, 0.0, 0.0]\n",
    "        l[x] = 1.0\n",
    "        return l\n",
    "    \n",
    "    def from_classlist(self, x):\n",
    "        return np.argmax(x)          \n",
    "\n",
    "    def show_image(self, i):\n",
    "        print(f\"Example image with label {self.to_label(self.y[i])}:\")\n",
    "        plt.imshow(self.X[i])"
   ]
  },
  {
   "cell_type": "markdown",
   "metadata": {
    "jp-MarkdownHeadingCollapsed": true,
    "tags": []
   },
   "source": [
    "## Taking a look at our dataset"
   ]
  },
  {
   "cell_type": "code",
   "execution_count": 6,
   "metadata": {},
   "outputs": [],
   "source": [
    "# run the code below if you want to initialize the dataset\n",
    "#initialize_dataset()"
   ]
  },
  {
   "cell_type": "code",
   "execution_count": 8,
   "metadata": {},
   "outputs": [],
   "source": [
    "# run the code below if you want to enhance the dataset\n",
    "# enhance_dataset()"
   ]
  },
  {
   "cell_type": "code",
   "execution_count": 80,
   "metadata": {},
   "outputs": [],
   "source": [
    "# the dataset\n",
    "dataset_original = Dataset(path=\"dataset\")\n",
    "# load the images from the local dataset/x.npy and dataset/y.npy files\n",
    "dataset_original.load_local()"
   ]
  },
  {
   "cell_type": "code",
   "execution_count": 81,
   "metadata": {},
   "outputs": [],
   "source": [
    "# the enhanced dataset\n",
    "dataset_enhanced = Dataset(path=\"enhanced\")\n",
    "# load the images from the local enhanced/x.npy and enhanced/y.npy files\n",
    "dataset_enhanced.load_local()"
   ]
  },
  {
   "cell_type": "markdown",
   "metadata": {},
   "source": [
    "### What's the difference between the original and the enhanced dataset?"
   ]
  },
  {
   "cell_type": "code",
   "execution_count": 82,
   "metadata": {},
   "outputs": [
    {
     "data": {
      "image/png": "[encoded data removed]",
      "text/plain": [
       "<Figure size 500x500 with 4 Axes>"
      ]
     },
     "metadata": {},
     "output_type": "display_data"
    }
   ],
   "source": [
    "index = 26     # starts from 1, index 26 we have some big lungs\n",
    "\n",
    "img_original = plt.imread(f\"dataset/COVID/images/COVID-{index}.png\")\n",
    "img_original_masked = np.multiply(img_original, plt.imread(f\"dataset/COVID/masks/COVID-{index}.png\"))\n",
    "\n",
    "img_enhanced = plt.imread(f\"enhanced/COVID/images/COVID-{index}.png\")\n",
    "img_enhanced_masked = np.multiply(img_enhanced, plt.imread(f\"enhanced/COVID/masks/COVID-{index}.png\"))\n",
    "\n",
    "images = [\n",
    "    [img_original, img_original_masked], \n",
    "    [img_enhanced, img_enhanced_masked]\n",
    "]\n",
    "\n",
    "_, axes = plt.subplots(nrows=2, ncols=2, figsize=(5, 5))\n",
    "\n",
    "for row, imgtype, imagerow in zip(axes, [\"Original\", \"Enhanced\"], images):\n",
    "    for subplt, imgsubtype, image in zip(row, [\"\", \": masked\"], imagerow):\n",
    "        subplt.set_axis_off()\n",
    "        subplt.imshow(image)\n",
    "        subplt.set_title(f\"{imgtype}{imgsubtype}\")\n"
   ]
  },
  {
   "cell_type": "markdown",
   "metadata": {},
   "source": [
    "So inside our `dataset_original` we have images looking like the top right example, and inside our `dataset_enhanced` we have images looking like the bottom right example"
   ]
  },
  {
   "cell_type": "markdown",
   "metadata": {
    "tags": []
   },
   "source": [
    "# 2. Classes & functions used for the active learning process"
   ]
  },
  {
   "cell_type": "markdown",
   "metadata": {
    "tags": []
   },
   "source": [
    "## The Model"
   ]
  },
  {
   "cell_type": "code",
   "execution_count": 1,
   "metadata": {},
   "outputs": [],
   "source": [
    "import os\n",
    "os.environ['TF_CPP_MIN_LOG_LEVEL'] = '3' \n",
    "import tensorflow as tf\n",
    "from keras.applications.vgg16 import VGG16\n",
    "from tensorflow.keras.optimizers import Adam\n",
    "from tensorflow.keras.losses import categorical_crossentropy\n",
    "\n",
    "\n",
    "class Model():\n",
    "    def __init__(self, epochs, batch_size):\n",
    "        self.model = VGG16(include_top=True, weights=None, classes=3)\n",
    "        self.model.compile(optimizer=Adam(learning_rate=0.0001), loss=categorical_crossentropy, metrics=['accuracy'])\n",
    "        self.acc = 0\n",
    "        self.used = [0, 0, 0]\n",
    "        self.predictions = None\n",
    "        self.epochs = epochs\n",
    "        self.batch_size = batch_size\n",
    "        \n",
    "    def __str__(self):\n",
    "        return repr(self)\n",
    "\n",
    "    def __repr__(self):\n",
    "        return f\"<|AL|epochs|{self.epochs}|batch_size|{self.batch_size}|used|{sum(self.used)}|{self.used}|acc|{self.acc}|>\"\n",
    "\n",
    "    def traintest(self, X_train, y_train, X_test, y_test):\n",
    "        # count labels used\n",
    "        for x in y_train:\n",
    "            self.used[x] += 1\n",
    "        # fit the model\n",
    "        self.model.fit(\n",
    "            x=X_train,\n",
    "            y=np.array(list(map(dataset.to_classlist, y_train))), \n",
    "            epochs=self.epochs,\n",
    "            batch_size=self.batch_size,\n",
    "            verbose=0\n",
    "        )\n",
    "        # test \n",
    "        self.predictions = np.array(list(map(dataset.from_classlist, self.model.predict(X_test, verbose=0))))\n",
    "        # calc acc\n",
    "        count = 0\n",
    "        for i in range(self.predictions.shape[0]):\n",
    "            if self.predictions[i] == y_test[i]:\n",
    "                count += 1\n",
    "        self.acc = count / self.predictions.shape[0]"
   ]
  },
  {
   "cell_type": "markdown",
   "metadata": {
    "tags": []
   },
   "source": [
    "## The query strategies"
   ]
  },
  {
   "cell_type": "code",
   "execution_count": 2,
   "metadata": {},
   "outputs": [],
   "source": [
    "# the query strategies to try\n",
    "import numpy as np\n",
    "\n",
    "\n",
    "def random(model, X_pool, query_size):\n",
    "    query_size = min(query_size, X_pool.shape[0])\n",
    "    # select random indexes\n",
    "    idxs = np.random.choice(X_pool.shape[0], query_size, replace=False)\n",
    "    return idxs\n",
    "\n",
    "\n",
    "def uncertainty(model, X_pool, query_size):\n",
    "    query_size = min(query_size, X_pool.shape[0])\n",
    "    # get predictions on remaining training data\n",
    "    p_pool = model.predict(X_pool)\n",
    "    # get indexes of most uncertain predictions) (if the max is low, then the prediction is uncertain)\n",
    "    idxs = np.max(p_pool, axis=1).argsort()[:query_size]\n",
    "    return idxs\n",
    "\n",
    "\n",
    "def margin(model, X_pool, query_size):\n",
    "    query_size = min(query_size, X_pool.shape[0])\n",
    "    # get predictions on remaining training data\n",
    "    p_pool = model.predict(X_pool)\n",
    "    # get indexes of predictions with smallest margin (difference) between first and second most likely\n",
    "    p_pool.sort(axis=1)\n",
    "    idxs = np.array([(xi[-1] - xi[-2]) for xi in p_pool]).argsort()[:query_size]\n",
    "    return idxs\n",
    "\n",
    "\n",
    "def entropy(model, X_pool, query_size):\n",
    "    query_size = min(query_size, X_pool.shape[0])\n",
    "    # get predictions on remaining training data\n",
    "    p_pool = model.predict(X_pool)\n",
    "    # get indexes of predictions with highest entropy (-Sum(y):P(y)*log2(P(y))) (last indices have high entr.)\n",
    "    idxs = -np.sum(np.multiply(p_pool, np.log2(p_pool)), axis=1).argsort()[-query_size:]\n",
    "    return idxs\n",
    "\n",
    "qss = [(\"random\", random), (\"uncertainty\", uncertainty), (\"margin\", margin), (\"entropy\", entropy)]"
   ]
  },
  {
   "cell_type": "markdown",
   "metadata": {
    "tags": []
   },
   "source": [
    "## The Data class"
   ]
  },
  {
   "cell_type": "markdown",
   "metadata": {},
   "source": [
    "this class handles the labeling of data, and moving data from the unlabeled pool to the labeled training data"
   ]
  },
  {
   "cell_type": "code",
   "execution_count": 3,
   "metadata": {},
   "outputs": [],
   "source": [
    "import numpy as np\n",
    "\n",
    "class Data():\n",
    "    def __init__(self, dataset):\n",
    "        self.X_test = dataset.X_test\n",
    "        self.y_test = dataset.y_test\n",
    "        \n",
    "        self.X_pool = dataset.X_train\n",
    "        self.y_pool = dataset.y_train\n",
    "        \n",
    "        # empty training pool to start\n",
    "        s = self.X_pool.shape\n",
    "        self.X_train = np.empty((0, *s[1:]))\n",
    "        self.y_train = np.empty((0), dtype=int)\n",
    "    \n",
    "    def select(self, qs, n, model):\n",
    "        # select n images according to the query-strategy qs\n",
    "        idxs = qs(model, self.X_pool, n)\n",
    "        # move the selected images to the training set\n",
    "        self.X_train = np.append(self.X_train, self.X_pool[idxs], axis=0)\n",
    "        self.y_train = np.append(self.y_train, self.y_pool[idxs], axis=0)\n",
    "        # remove the selected images from the pool\n",
    "        self.X_pool = np.delete(self.X_pool, idxs, axis=0)\n",
    "        self.y_pool = np.delete(self.y_pool, idxs, axis=0)\n"
   ]
  },
  {
   "cell_type": "markdown",
   "metadata": {
    "tags": []
   },
   "source": [
    "# 3. Experiments"
   ]
  },
  {
   "cell_type": "markdown",
   "metadata": {},
   "source": [
    "some helper functions to make directories / files for storing our results"
   ]
  },
  {
   "cell_type": "markdown",
   "metadata": {
    "jp-MarkdownHeadingCollapsed": true,
    "tags": []
   },
   "source": [
    "## Initial setup for every experiment"
   ]
  },
  {
   "cell_type": "code",
   "execution_count": 4,
   "metadata": {},
   "outputs": [],
   "source": [
    "# helper functions for checking if directories/files exist, and if not, to create them\n",
    "import os\n",
    "\n",
    "def checkmake_dir(path:str):\n",
    "    if not os.path.exists(path):\n",
    "        os.mkdir(path)\n",
    "\n",
    "def checkmake_file(path:str):\n",
    "    if not os.path.exists(path):\n",
    "            with open(path, \"w+\") as f:\n",
    "                f.write(\"\")"
   ]
  },
  {
   "cell_type": "code",
   "execution_count": 5,
   "metadata": {},
   "outputs": [],
   "source": [
    "# variables for colored output\n",
    "OKCYAN = '\\033[96m'\n",
    "ENDC = '\\033[0m'"
   ]
  },
  {
   "cell_type": "markdown",
   "metadata": {},
   "source": [
    "first, we put our datasets in a list"
   ]
  },
  {
   "cell_type": "code",
   "execution_count": 8,
   "metadata": {},
   "outputs": [],
   "source": [
    "datasets = [\n",
    "    Dataset(path=\"dataset\").load_local(), \n",
    "    Dataset(path=\"enhanced\").load_local()\n",
    "]"
   ]
  },
  {
   "cell_type": "markdown",
   "metadata": {},
   "source": [
    "next we put our query-strategies, together with their name, in a list"
   ]
  },
  {
   "cell_type": "code",
   "execution_count": 9,
   "metadata": {},
   "outputs": [],
   "source": [
    "qss = [\n",
    "    (\"random\", random), \n",
    "    (\"uncertainty\", uncertainty), \n",
    "    (\"margin\", margin), \n",
    "    (\"entropy\", entropy)\n",
    "]"
   ]
  },
  {
   "cell_type": "markdown",
   "metadata": {},
   "source": [
    "a \"query strategy\" that selects the initial training data"
   ]
  },
  {
   "cell_type": "code",
   "execution_count": 10,
   "metadata": {},
   "outputs": [],
   "source": [
    "def select_first(model, X_pool, query_size):\n",
    "    query_size = min(query_size, X_pool.shape[0])\n",
    "    # select first indexes\n",
    "    return [x for x in range(query_size)]"
   ]
  },
  {
   "cell_type": "markdown",
   "metadata": {
    "tags": []
   },
   "source": [
    "## 3.1. Comparison of datasets and query strategies"
   ]
  },
  {
   "cell_type": "markdown",
   "metadata": {},
   "source": [
    "we'll store our results in the \"./results_al\" directory"
   ]
  },
  {
   "cell_type": "code",
   "execution_count": 22,
   "metadata": {},
   "outputs": [],
   "source": [
    "resdir = \"results_al\"\n",
    "checkmake_dir(resdir)"
   ]
  },
  {
   "cell_type": "markdown",
   "metadata": {},
   "source": [
    "for this experiment we've chosen a query_size of 32 \n",
    "\n",
    "max_train_imgs is only here for limiting the duration of this loop, it defines the length of the x-axis in the results"
   ]
  },
  {
   "cell_type": "code",
   "execution_count": 12,
   "metadata": {},
   "outputs": [],
   "source": [
    "query_size = 16\n",
    "max_train_imgs = 512\n",
    "\n",
    "epochs = 16\n",
    "batch_size = 16"
   ]
  },
  {
   "cell_type": "code",
   "execution_count": 13,
   "metadata": {},
   "outputs": [
    {
     "data": {
      "text/plain": [
       "32"
      ]
     },
     "execution_count": 13,
     "metadata": {},
     "output_type": "execute_result"
    }
   ],
   "source": [
    "# the steps we will take (steps over the size of the data)\n",
    "steps = [i for i in range(query_size, max_train_imgs+1, query_size)]\n",
    "len(steps)"
   ]
  },
  {
   "cell_type": "code",
   "execution_count": null,
   "metadata": {},
   "outputs": [
    {
     "name": "stdout",
     "output_type": "stream",
     "text": [
      "\u001b[96mStarting 'random' with 16 images (1/32)\u001b[0m (Current Time: 14:59:27)\n",
      "----> finished 'random' with 16 images in 0 mins\n",
      "\u001b[96mStarting 'random' with 32 images (1/32)\u001b[0m (Current Time: 14:59:45)\n",
      "----> finished 'random' with 32 images in 0 mins\n",
      "\u001b[96mStarting 'random' with 48 images (2/32)\u001b[0m (Current Time: 15:00:15)\n",
      "----> finished 'random' with 48 images in 0 mins\n",
      "\u001b[96mStarting 'random' with 64 images (3/32)\u001b[0m (Current Time: 15:00:58)\n",
      "----> finished 'random' with 64 images in 0 mins\n",
      "\u001b[96mStarting 'random' with 80 images (4/32)\u001b[0m (Current Time: 15:01:49)\n",
      "----> finished 'random' with 80 images in 1 mins\n",
      "\u001b[96mStarting 'random' with 96 images (5/32)\u001b[0m (Current Time: 15:02:50)\n",
      "----> finished 'random' with 96 images in 1 mins\n",
      "\u001b[96mStarting 'random' with 112 images (6/32)\u001b[0m (Current Time: 15:04:01)\n",
      "----> finished 'random' with 112 images in 1 mins\n",
      "\u001b[96mStarting 'random' with 128 images (7/32)\u001b[0m (Current Time: 15:05:26)\n",
      "----> finished 'random' with 128 images in 1 mins\n",
      "\u001b[96mStarting 'random' with 144 images (8/32)\u001b[0m (Current Time: 15:07:03)\n",
      "----> finished 'random' with 144 images in 1 mins\n",
      "\u001b[96mStarting 'random' with 160 images (9/32)\u001b[0m (Current Time: 15:08:47)\n",
      "----> finished 'random' with 160 images in 1 mins\n",
      "\u001b[96mStarting 'random' with 176 images (10/32)\u001b[0m (Current Time: 15:10:45)\n",
      "----> finished 'random' with 176 images in 2 mins\n",
      "\u001b[96mStarting 'random' with 192 images (11/32)\u001b[0m (Current Time: 15:12:50)\n",
      "----> finished 'random' with 192 images in 2 mins\n",
      "\u001b[96mStarting 'random' with 208 images (12/32)\u001b[0m (Current Time: 15:15:10)\n",
      "----> finished 'random' with 208 images in 2 mins\n",
      "\u001b[96mStarting 'random' with 224 images (13/32)\u001b[0m (Current Time: 15:17:42)\n",
      "----> finished 'random' with 224 images in 2 mins\n",
      "\u001b[96mStarting 'random' with 240 images (14/32)\u001b[0m (Current Time: 15:20:19)\n",
      "----> finished 'random' with 240 images in 2 mins\n",
      "\u001b[96mStarting 'random' with 256 images (15/32)\u001b[0m (Current Time: 15:23:13)\n",
      "----> finished 'random' with 256 images in 3 mins\n",
      "\u001b[96mStarting 'random' with 272 images (16/32)\u001b[0m (Current Time: 15:26:18)\n",
      "----> finished 'random' with 272 images in 2 mins\n",
      "\u001b[96mStarting 'random' with 288 images (17/32)\u001b[0m (Current Time: 15:28:49)\n",
      "----> finished 'random' with 288 images in 2 mins\n",
      "\u001b[96mStarting 'random' with 304 images (18/32)\u001b[0m (Current Time: 15:31:33)\n",
      "----> finished 'random' with 304 images in 2 mins\n",
      "\u001b[96mStarting 'random' with 320 images (19/32)\u001b[0m (Current Time: 15:34:17)\n",
      "----> finished 'random' with 320 images in 3 mins\n",
      "\u001b[96mStarting 'random' with 336 images (20/32)\u001b[0m (Current Time: 15:37:17)\n"
     ]
    }
   ],
   "source": [
    "import time \n",
    "from datetime import datetime\n",
    "\n",
    "for dataset in datasets:\n",
    "    for (name, qs) in qss:\n",
    "        # initialize the pool of unlabeled data and the empty training set\n",
    "        data = Data(dataset)\n",
    "        \n",
    "        # initial loop iteration, here we select the first query_size samples as initial\n",
    "        #    training data, because there isn't a model yet\n",
    "        \n",
    "        print(f\"{OKCYAN}Starting '{name}' with {query_size} images (1/{len(steps)}){ENDC} (Current Time: {datetime.now().strftime('%H:%M:%S')})\")\n",
    "        time_start = time.time()\n",
    "        # initial training data  (model not important here)\n",
    "        data.select(select_first, query_size, None)\n",
    "        # get a model\n",
    "        model = Model(epochs, batch_size)\n",
    "        # train & test the model\n",
    "        model.traintest(data.X_train, data.y_train, data.X_test, data.y_test)\n",
    "        # save the stats of the model\n",
    "        checkmake_dir(f\"{resdir}/{dataset.path}\")\n",
    "        checkmake_dir(f\"{resdir}/{dataset.path}/{name}\")\n",
    "        checkmake_file(f\"{resdir}/{dataset.path}/{name}/checkpoints.txt\")\n",
    "        with open(f\"{resdir}/{dataset.path}/{name}/checkpoints.txt\", \"a\") as f:\n",
    "                f.write(f\"{str(model)}\\n\")\n",
    "        # print some feedback\n",
    "        time_total = int(time.time() - time_start) // 60\n",
    "        print(f\"----> finished '{name}' with {query_size} images in {time_total} mins\")\n",
    "        \n",
    "        # the active-learning loop\n",
    "        for j, max_imgs in enumerate(steps[1:]):  # skip the first step, as we already did that\n",
    "            print(f\"{OKCYAN}Starting '{name}' with {max_imgs} images ({j+1}/{len(steps)}){ENDC} (Current Time: {datetime.now().strftime('%H:%M:%S')})\")\n",
    "            time_start = time.time()\n",
    "            # select new samples\n",
    "            data.select(qs, query_size, model)\n",
    "            # get a new model\n",
    "            model = Model(epochs, batch_size)\n",
    "            # train & test the model\n",
    "            model.traintest(data.X_train, data.y_train, data.X_test, data.y_test)\n",
    "            # save the stats of the model\n",
    "            with open(f\"{resdir}/{dataset.path}/{name}/checkpoints.txt\", \"a\") as f:\n",
    "                    f.write(f\"{str(model)}\\n\")\n",
    "            # print some feedback\n",
    "            time_total = int(time.time() - time_start) // 60\n",
    "            print(f\"----> finished '{name}' with {max_imgs} images in {time_total} mins\")"
   ]
  },
  {
   "cell_type": "markdown",
   "metadata": {},
   "source": [
    "## 3.2 grid-search for epochs and batch_size in every iteration"
   ]
  },
  {
   "cell_type": "code",
   "execution_count": null,
   "metadata": {},
   "outputs": [],
   "source": []
  }
 ],
 "metadata": {
  "kernelspec": {
   "display_name": "Python 3 (ipykernel)",
   "language": "python",
   "name": "python3"
  },
  "language_info": {
   "codemirror_mode": {
    "name": "ipython",
    "version": 3
   },
   "file_extension": ".py",
   "mimetype": "text/x-python",
   "name": "python",
   "nbconvert_exporter": "python",
   "pygments_lexer": "ipython3",
   "version": "3.10.6"
  },
  "vscode": {
   "interpreter": {
    "hash": "45369b7f23f581d639014cef0fc0af01881539921285744ef5b5322dc6b328ec"
   }
  }
 },
 "nbformat": 4,
 "nbformat_minor": 4
}
