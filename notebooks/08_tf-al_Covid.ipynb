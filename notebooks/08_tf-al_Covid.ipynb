{
 "cells": [
  {
   "cell_type": "markdown",
   "id": "9272e22f",
   "metadata": {},
   "source": [
    "# Active Learning on Covid lung scans with VGG16\n",
    "\n",
    "We will use tensorflow to import the vgg 16 model.  \n",
    "The dataset can be found here: https://www.kaggle.com/datasets/tawsifurrahman/covid19-radiography-database\n",
    "\n",
    "## Module tf-al\n",
    "https://pypi.org/project/tf-al/  \n",
    "https://exleonem.github.io/tf-al/"
   ]
  },
  {
   "cell_type": "code",
   "execution_count": 1,
   "id": "246a2953",
   "metadata": {},
   "outputs": [
    {
     "name": "stderr",
     "output_type": "stream",
     "text": [
      "2022-11-24 11:24:09.894311: I tensorflow/core/platform/cpu_feature_guard.cc:193] This TensorFlow binary is optimized with oneAPI Deep Neural Network Library (oneDNN) to use the following CPU instructions in performance-critical operations:  AVX2 AVX512F AVX512_VNNI FMA\n",
      "To enable them in other operations, rebuild TensorFlow with the appropriate compiler flags.\n",
      "2022-11-24 11:24:12.734234: I tensorflow/core/util/port.cc:104] oneDNN custom operations are on. You may see slightly different numerical results due to floating-point round-off errors from different computation orders. To turn them off, set the environment variable `TF_ENABLE_ONEDNN_OPTS=0`.\n",
      "2022-11-24 11:24:13.982880: W tensorflow/compiler/xla/stream_executor/platform/default/dso_loader.cc:64] Could not load dynamic library 'libcudart.so.11.0'; dlerror: libcudart.so.11.0: cannot open shared object file: No such file or directory; LD_LIBRARY_PATH: /apps/gent/RHEL8/cascadelake-ib/software/ZeroMQ/4.3.4-GCCcore-11.2.0/lib:/apps/gent/RHEL8/cascadelake-ib/software/util-linux/2.37-GCCcore-11.2.0/lib:/apps/gent/RHEL8/cascadelake-ib/software/libsodium/1.0.18-GCCcore-11.2.0/lib:/apps/gent/RHEL8/cascadelake-ib/software/OpenPGM/5.2.122-GCCcore-11.2.0/lib:/apps/gent/RHEL8/cascadelake-ib/software/Python/3.9.6-GCCcore-11.2.0/lib:/apps/gent/RHEL8/cascadelake-ib/software/OpenSSL/1.1/lib:/apps/gent/RHEL8/cascadelake-ib/software/libffi/3.4.2-GCCcore-11.2.0/lib64:/apps/gent/RHEL8/cascadelake-ib/software/GMP/6.2.1-GCCcore-11.2.0/lib:/apps/gent/RHEL8/cascadelake-ib/software/XZ/5.2.5-GCCcore-11.2.0/lib:/apps/gent/RHEL8/cascadelake-ib/software/SQLite/3.36-GCCcore-11.2.0/lib:/apps/gent/RHEL8/cascadelake-ib/software/Tcl/8.6.11-GCCcore-11.2.0/lib:/apps/gent/RHEL8/cascadelake-ib/software/libreadline/8.1-GCCcore-11.2.0/lib:/apps/gent/RHEL8/cascadelake-ib/software/ncurses/6.2-GCCcore-11.2.0/lib:/apps/gent/RHEL8/cascadelake-ib/software/bzip2/1.0.8-GCCcore-11.2.0/lib:/apps/gent/RHEL8/cascadelake-ib/software/binutils/2.37-GCCcore-11.2.0/lib:/apps/gent/RHEL8/cascadelake-ib/software/zlib/1.2.11-GCCcore-11.2.0/lib:/apps/gent/RHEL8/cascadelake-ib/software/GCCcore/11.2.0/lib64\n",
      "2022-11-24 11:24:13.982920: I tensorflow/compiler/xla/stream_executor/cuda/cudart_stub.cc:29] Ignore above cudart dlerror if you do not have a GPU set up on your machine.\n",
      "2022-11-24 11:24:28.233090: W tensorflow/compiler/xla/stream_executor/platform/default/dso_loader.cc:64] Could not load dynamic library 'libnvinfer.so.7'; dlerror: libnvinfer.so.7: cannot open shared object file: No such file or directory; LD_LIBRARY_PATH: /apps/gent/RHEL8/cascadelake-ib/software/ZeroMQ/4.3.4-GCCcore-11.2.0/lib:/apps/gent/RHEL8/cascadelake-ib/software/util-linux/2.37-GCCcore-11.2.0/lib:/apps/gent/RHEL8/cascadelake-ib/software/libsodium/1.0.18-GCCcore-11.2.0/lib:/apps/gent/RHEL8/cascadelake-ib/software/OpenPGM/5.2.122-GCCcore-11.2.0/lib:/apps/gent/RHEL8/cascadelake-ib/software/Python/3.9.6-GCCcore-11.2.0/lib:/apps/gent/RHEL8/cascadelake-ib/software/OpenSSL/1.1/lib:/apps/gent/RHEL8/cascadelake-ib/software/libffi/3.4.2-GCCcore-11.2.0/lib64:/apps/gent/RHEL8/cascadelake-ib/software/GMP/6.2.1-GCCcore-11.2.0/lib:/apps/gent/RHEL8/cascadelake-ib/software/XZ/5.2.5-GCCcore-11.2.0/lib:/apps/gent/RHEL8/cascadelake-ib/software/SQLite/3.36-GCCcore-11.2.0/lib:/apps/gent/RHEL8/cascadelake-ib/software/Tcl/8.6.11-GCCcore-11.2.0/lib:/apps/gent/RHEL8/cascadelake-ib/software/libreadline/8.1-GCCcore-11.2.0/lib:/apps/gent/RHEL8/cascadelake-ib/software/ncurses/6.2-GCCcore-11.2.0/lib:/apps/gent/RHEL8/cascadelake-ib/software/bzip2/1.0.8-GCCcore-11.2.0/lib:/apps/gent/RHEL8/cascadelake-ib/software/binutils/2.37-GCCcore-11.2.0/lib:/apps/gent/RHEL8/cascadelake-ib/software/zlib/1.2.11-GCCcore-11.2.0/lib:/apps/gent/RHEL8/cascadelake-ib/software/GCCcore/11.2.0/lib64\n",
      "2022-11-24 11:24:28.233376: W tensorflow/compiler/xla/stream_executor/platform/default/dso_loader.cc:64] Could not load dynamic library 'libnvinfer_plugin.so.7'; dlerror: libnvinfer_plugin.so.7: cannot open shared object file: No such file or directory; LD_LIBRARY_PATH: /apps/gent/RHEL8/cascadelake-ib/software/ZeroMQ/4.3.4-GCCcore-11.2.0/lib:/apps/gent/RHEL8/cascadelake-ib/software/util-linux/2.37-GCCcore-11.2.0/lib:/apps/gent/RHEL8/cascadelake-ib/software/libsodium/1.0.18-GCCcore-11.2.0/lib:/apps/gent/RHEL8/cascadelake-ib/software/OpenPGM/5.2.122-GCCcore-11.2.0/lib:/apps/gent/RHEL8/cascadelake-ib/software/Python/3.9.6-GCCcore-11.2.0/lib:/apps/gent/RHEL8/cascadelake-ib/software/OpenSSL/1.1/lib:/apps/gent/RHEL8/cascadelake-ib/software/libffi/3.4.2-GCCcore-11.2.0/lib64:/apps/gent/RHEL8/cascadelake-ib/software/GMP/6.2.1-GCCcore-11.2.0/lib:/apps/gent/RHEL8/cascadelake-ib/software/XZ/5.2.5-GCCcore-11.2.0/lib:/apps/gent/RHEL8/cascadelake-ib/software/SQLite/3.36-GCCcore-11.2.0/lib:/apps/gent/RHEL8/cascadelake-ib/software/Tcl/8.6.11-GCCcore-11.2.0/lib:/apps/gent/RHEL8/cascadelake-ib/software/libreadline/8.1-GCCcore-11.2.0/lib:/apps/gent/RHEL8/cascadelake-ib/software/ncurses/6.2-GCCcore-11.2.0/lib:/apps/gent/RHEL8/cascadelake-ib/software/bzip2/1.0.8-GCCcore-11.2.0/lib:/apps/gent/RHEL8/cascadelake-ib/software/binutils/2.37-GCCcore-11.2.0/lib:/apps/gent/RHEL8/cascadelake-ib/software/zlib/1.2.11-GCCcore-11.2.0/lib:/apps/gent/RHEL8/cascadelake-ib/software/GCCcore/11.2.0/lib64\n",
      "2022-11-24 11:24:28.233386: W tensorflow/compiler/tf2tensorrt/utils/py_utils.cc:38] TF-TRT Warning: Cannot dlopen some TensorRT libraries. If you would like to use Nvidia GPU with TensorRT, please make sure the missing libraries mentioned above are installed properly.\n"
     ]
    }
   ],
   "source": [
    "import os\n",
    "\n",
    "# Standard scientific Python imports\n",
    "import matplotlib.pyplot as plt\n",
    "import numpy as np\n",
    "\n",
    "# Used for converting 24 bit to 8 bit images\n",
    "from PIL import Image\n",
    "\n",
    "# Import classifiers and performance metrics\n",
    "from sklearn.model_selection import train_test_split\n",
    "\n",
    "from keras.applications.vgg16 import VGG16\n",
    "from tensorflow.keras.optimizers import Adam\n",
    "from tensorflow.keras.losses import categorical_crossentropy"
   ]
  },
  {
   "cell_type": "code",
   "execution_count": 2,
   "id": "20da2efe",
   "metadata": {},
   "outputs": [
    {
     "name": "stdout",
     "output_type": "stream",
     "text": [
      "(2400, 224, 224, 3)\n",
      "[0 0 0 ... 1 1 0]\n"
     ]
    }
   ],
   "source": [
    "path = \"ActiveLearning_ImageClassification/COVID-19_Radiography_Dataset/\"\n",
    "\n",
    "# Load training data\n",
    "X_train = np.load(path + \"x_train.npy\")\n",
    "X_test = np.load(path + \"x_test.npy\")\n",
    "y_train = np.load(path + \"y_train.npy\")\n",
    "y_test = np.load(path + \"y_test.npy\")\n",
    "print(X_train.shape)\n",
    "\n",
    "y_train = np.unique(y_train, return_inverse=True)[1]\n",
    "print(y_train)"
   ]
  },
  {
   "cell_type": "markdown",
   "id": "036bf0dc",
   "metadata": {},
   "source": [
    "## Start Training model"
   ]
  },
  {
   "cell_type": "code",
   "execution_count": 11,
   "id": "bd40d0a9",
   "metadata": {},
   "outputs": [
    {
     "name": "stdout",
     "output_type": "stream",
     "text": [
      "Model: \"vgg16\"\n",
      "_________________________________________________________________\n",
      " Layer (type)                Output Shape              Param #   \n",
      "=================================================================\n",
      " input_2 (InputLayer)        [(None, 224, 224, 3)]     0         \n",
      "                                                                 \n",
      " block1_conv1 (Conv2D)       (None, 224, 224, 64)      1792      \n",
      "                                                                 \n",
      " block1_conv2 (Conv2D)       (None, 224, 224, 64)      36928     \n",
      "                                                                 \n",
      " block1_pool (MaxPooling2D)  (None, 112, 112, 64)      0         \n",
      "                                                                 \n",
      " block2_conv1 (Conv2D)       (None, 112, 112, 128)     73856     \n",
      "                                                                 \n",
      " block2_conv2 (Conv2D)       (None, 112, 112, 128)     147584    \n",
      "                                                                 \n",
      " block2_pool (MaxPooling2D)  (None, 56, 56, 128)       0         \n",
      "                                                                 \n",
      " block3_conv1 (Conv2D)       (None, 56, 56, 256)       295168    \n",
      "                                                                 \n",
      " block3_conv2 (Conv2D)       (None, 56, 56, 256)       590080    \n",
      "                                                                 \n",
      " block3_conv3 (Conv2D)       (None, 56, 56, 256)       590080    \n",
      "                                                                 \n",
      " block3_pool (MaxPooling2D)  (None, 28, 28, 256)       0         \n",
      "                                                                 \n",
      " block4_conv1 (Conv2D)       (None, 28, 28, 512)       1180160   \n",
      "                                                                 \n",
      " block4_conv2 (Conv2D)       (None, 28, 28, 512)       2359808   \n",
      "                                                                 \n",
      " block4_conv3 (Conv2D)       (None, 28, 28, 512)       2359808   \n",
      "                                                                 \n",
      " block4_pool (MaxPooling2D)  (None, 14, 14, 512)       0         \n",
      "                                                                 \n",
      " block5_conv1 (Conv2D)       (None, 14, 14, 512)       2359808   \n",
      "                                                                 \n",
      " block5_conv2 (Conv2D)       (None, 14, 14, 512)       2359808   \n",
      "                                                                 \n",
      " block5_conv3 (Conv2D)       (None, 14, 14, 512)       2359808   \n",
      "                                                                 \n",
      " block5_pool (MaxPooling2D)  (None, 7, 7, 512)         0         \n",
      "                                                                 \n",
      " flatten (Flatten)           (None, 25088)             0         \n",
      "                                                                 \n",
      " fc1 (Dense)                 (None, 4096)              102764544 \n",
      "                                                                 \n",
      " fc2 (Dense)                 (None, 4096)              16781312  \n",
      "                                                                 \n",
      " predictions (Dense)         (None, 3)                 12291     \n",
      "                                                                 \n",
      "=================================================================\n",
      "Total params: 134,272,835\n",
      "Trainable params: 134,272,835\n",
      "Non-trainable params: 0\n",
      "_________________________________________________________________\n"
     ]
    }
   ],
   "source": [
    "base_model = VGG16(weights=None, classes=3)\n",
    "opt = Adam(learning_rate=0.001)\n",
    "\n",
    "base_model.compile(optimizer=opt, loss=categorical_crossentropy, metrics=['accuracy'])\n",
    "base_model.summary()"
   ]
  },
  {
   "cell_type": "code",
   "execution_count": 4,
   "id": "c36a4511",
   "metadata": {},
   "outputs": [
    {
     "name": "stdout",
     "output_type": "stream",
     "text": [
      "[[1. 0. 0.]\n",
      " [1. 0. 0.]\n",
      " [1. 0. 0.]\n",
      " ...\n",
      " [0. 1. 0.]\n",
      " [0. 1. 0.]\n",
      " [1. 0. 0.]]\n"
     ]
    }
   ],
   "source": [
    "# create the y_train with prediction values\n",
    "new_train = np.array([[0.0, 0.0, 0.0] for i in y_train])\n",
    "for index, elem in enumerate(y_train):\n",
    "    new_train[index, elem] = 1.0\n",
    "print(new_train)"
   ]
  },
  {
   "cell_type": "code",
   "execution_count": 20,
   "id": "a52a25f7",
   "metadata": {},
   "outputs": [],
   "source": [
    "from tf_al.wrapper import McDropout\n",
    "from tf_al import Config\n",
    "from tensorflow import keras\n",
    "\n",
    "# Wrap, configure and compile\n",
    "model_config = Config(\n",
    "    fit={\"epochs\": 200, \"batch_size\": 10},\n",
    "    query={\"sample_size\": 25},\n",
    "    eval={\"batch_size\": 900, \"sample_size\": 25}\n",
    ")\n",
    "model = McDropout(base_model, config=model_config)\n",
    "model.compile(\n",
    "    optimizer=\"adam\", \n",
    "    loss=\"categorical_crossentropy\", metrics=['accuracy']\n",
    ")"
   ]
  },
  {
   "cell_type": "code",
   "execution_count": null,
   "id": "f728e6e6",
   "metadata": {},
   "outputs": [
    {
     "name": "stdout",
     "output_type": "stream",
     "text": [
      "Epoch 1/200\n",
      " 78/240 [========>.....................] - ETA: 24:00 - loss: 1.1329 - accuracy: 0.4590"
     ]
    }
   ],
   "source": [
    "# Fit model to data\n",
    "model.fit(X_train, new_train, batch_size=25, epochs=100)"
   ]
  }
 ],
 "metadata": {
  "kernelspec": {
   "display_name": "Python 3 (ipykernel)",
   "language": "python",
   "name": "python3"
  },
  "language_info": {
   "codemirror_mode": {
    "name": "ipython",
    "version": 3
   },
   "file_extension": ".py",
   "mimetype": "text/x-python",
   "name": "python",
   "nbconvert_exporter": "python",
   "pygments_lexer": "ipython3",
   "version": "3.9.6"
  }
 },
 "nbformat": 4,
 "nbformat_minor": 5
}
