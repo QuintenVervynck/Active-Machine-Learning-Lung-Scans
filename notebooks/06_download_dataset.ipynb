{
 "cells": [
  {
   "cell_type": "markdown",
   "id": "830b8820",
   "metadata": {},
   "source": [
    "# Download Covid dataset\n",
    "Dataset: https://www.kaggle.com/datasets/tawsifurrahman/covid19-radiography-database  \n",
    "API command: kaggle datasets download -d tawsifurrahman/covid19-radiography-database\n",
    "\n",
    "## Import first install kaggle\n",
    "pip install kaggle\n",
    "\n",
    "## Next restart kernel and execute all cells"
   ]
  },
  {
   "cell_type": "code",
   "execution_count": 3,
   "id": "020c3a5c",
   "metadata": {},
   "outputs": [],
   "source": [
    "import os\n",
    "\n",
    "os.environ['KAGGLE_USERNAME'] = 'dumpstertrash'\n",
    "os.environ['KAGGLE_KEY'] = 'fc29a78761d58a50c7b50d71f3f3a3f2'"
   ]
  },
  {
   "cell_type": "code",
   "execution_count": 4,
   "id": "a1069d7f",
   "metadata": {},
   "outputs": [],
   "source": [
    "from kaggle.api.kaggle_api_extended import KaggleApi\n",
    "api = KaggleApi()\n",
    "api.authenticate()"
   ]
  },
  {
   "cell_type": "code",
   "execution_count": null,
   "id": "a59b2057",
   "metadata": {},
   "outputs": [],
   "source": [
    "api.dataset_download_files('tawsifurrahman/covid19-radiography-database', path=\"./ActiveLearning_ImageClassification\")"
   ]
  },
  {
   "cell_type": "code",
   "execution_count": 5,
   "id": "d8e79bdc",
   "metadata": {},
   "outputs": [
    {
     "name": "stdout",
     "output_type": "stream",
     "text": [
      "Finished Downloading\n"
     ]
    }
   ],
   "source": [
    "print(\"Finished Downloading\")"
   ]
  },
  {
   "cell_type": "code",
   "execution_count": 12,
   "id": "d88d5df9",
   "metadata": {},
   "outputs": [],
   "source": [
    "import zipfile\n",
    "\n",
    "if os.path.isfile(\"./ActiveLearning_ImageClassification/covid19-radiography-database.zip\") and not os.path.isdir(\"./ActiveLearning_ImageClassification/COVID-19_Radiography_Dataset\"):\n",
    "    with zipfile.ZipFile(\"./ActiveLearning_ImageClassification/covid19-radiography-database.zip\",\"r\") as zip_ref:\n",
    "        zip_ref.extractall(\"./ActiveLearning_ImageClassification/\")"
   ]
  },
  {
   "cell_type": "code",
   "execution_count": 13,
   "id": "f39f025f",
   "metadata": {},
   "outputs": [
    {
     "name": "stdout",
     "output_type": "stream",
     "text": [
      "Finished Unzipping\n"
     ]
    }
   ],
   "source": [
    "print(\"Finished Unzipping\")"
   ]
  }
 ],
 "metadata": {
  "kernelspec": {
   "display_name": "Python 3 (ipykernel)",
   "language": "python",
   "name": "python3"
  },
  "language_info": {
   "codemirror_mode": {
    "name": "ipython",
    "version": 3
   },
   "file_extension": ".py",
   "mimetype": "text/x-python",
   "name": "python",
   "nbconvert_exporter": "python",
   "pygments_lexer": "ipython3",
   "version": "3.10.4"
  }
 },
 "nbformat": 4,
 "nbformat_minor": 5
}
