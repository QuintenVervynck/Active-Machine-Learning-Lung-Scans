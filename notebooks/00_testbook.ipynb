{
 "cells": [
  {
   "cell_type": "code",
   "execution_count": 1,
   "id": "bab8e78b-ed29-4df9-b236-d80a9d8d0983",
   "metadata": {},
   "outputs": [],
   "source": [
    "import numpy as np\n",
    "import matplotlib.pyplot as plt\n",
    "\n",
    "from lib.dataset import Dataset\n",
    "from lib.model import Model"
   ]
  },
  {
   "cell_type": "code",
   "execution_count": 2,
   "id": "3255d977-cb6b-4ad0-9a18-74e4b6c2e1ce",
   "metadata": {},
   "outputs": [
    {
     "name": "stdout",
     "output_type": "stream",
     "text": [
      "AL LEARN ACC GRAPH\n",
      "Loading local preprocessed dataset...\n",
      "Finished\n"
     ]
    }
   ],
   "source": [
    "print(\"AL LEARN ACC GRAPH\")\n",
    "dataset = Dataset()\n",
    "\n",
    "def uncertainty(model, X_pool, query_size):\n",
    "    query_size = min(query_size, X_pool.shape[0])\n",
    "    # get predictions on remaining training data\n",
    "    p_pool = model.predict(X_pool)\n",
    "    # get indexes of most uncertain predictions) (if the max is low, then the prediction is uncertain)\n",
    "    idxs = np.max(p_pool, axis=1).argsort()[:query_size]\n",
    "    return idxs\n",
    "\n",
    "steps = [i for i in range(50, 1050, 50)] + [i for i in range(1100, 3201, 100)]\n",
    "models = []"
   ]
  },
  {
   "cell_type": "code",
   "execution_count": null,
   "id": "5dbc5cd7-9a2f-4c38-9250-d0d1f69015ab",
   "metadata": {},
   "outputs": [
    {
     "name": "stdout",
     "output_type": "stream",
     "text": [
      "TRAINING MODEL 1/42 ON 50 IMGS\n",
      "Metal device set to: Apple M1 Pro\n"
     ]
    },
    {
     "name": "stderr",
     "output_type": "stream",
     "text": [
      "2022-11-29 15:16:08.245375: I tensorflow/core/common_runtime/pluggable_device/pluggable_device_factory.cc:306] Could not identify NUMA node of platform GPU ID 0, defaulting to 0. Your kernel may not have been built with NUMA support.\n",
      "2022-11-29 15:16:08.245502: I tensorflow/core/common_runtime/pluggable_device/pluggable_device_factory.cc:272] Created TensorFlow device (/job:localhost/replica:0/task:0/device:GPU:0 with 0 MB memory) -> physical PluggableDevice (device: 0, name: METAL, pci bus id: <undefined>)\n"
     ]
    },
    {
     "name": "stdout",
     "output_type": "stream",
     "text": [
      "X_train shape: (3228, 224, 224, 3)\n",
      "X_valid & X_test shape: (404, 224, 224, 3)\n",
      "y_train shape: (3228,)\n",
      "y_valid & y_test shape: (404,)\n",
      "iteration 1/2, training on max 50 images\n"
     ]
    },
    {
     "name": "stderr",
     "output_type": "stream",
     "text": [
      "2022-11-29 15:16:08.937366: W tensorflow/core/platform/profile_utils/cpu_utils.cc:128] Failed to get CPU frequency: 0 Hz\n",
      "2022-11-29 15:16:09.016023: I tensorflow/core/grappler/optimizers/custom_graph_optimizer_registry.cc:114] Plugin optimizer for device_type GPU is enabled.\n"
     ]
    },
    {
     "name": "stdout",
     "output_type": "stream",
     "text": [
      "101/101 [==============================] - 29s 290ms/step\n",
      "Epoch 1/10\n"
     ]
    },
    {
     "name": "stderr",
     "output_type": "stream",
     "text": [
      "2022-11-29 15:16:39.377833: I tensorflow/core/grappler/optimizers/custom_graph_optimizer_registry.cc:114] Plugin optimizer for device_type GPU is enabled.\n"
     ]
    },
    {
     "name": "stdout",
     "output_type": "stream",
     "text": [
      "1/1 [==============================] - ETA: 0s - loss: 1.0721 - accuracy: 0.4062"
     ]
    },
    {
     "name": "stderr",
     "output_type": "stream",
     "text": [
      "2022-11-29 15:16:40.690135: I tensorflow/core/grappler/optimizers/custom_graph_optimizer_registry.cc:114] Plugin optimizer for device_type GPU is enabled.\n"
     ]
    },
    {
     "name": "stdout",
     "output_type": "stream",
     "text": [
      "1/1 [==============================] - 5s 5s/step - loss: 1.0721 - accuracy: 0.4062 - val_loss: 6.9882 - val_accuracy: 0.3598\n",
      "Epoch 2/10\n",
      "1/1 [==============================] - 5s 5s/step - loss: 3.8875 - accuracy: 0.5000 - val_loss: 3.4700 - val_accuracy: 0.3474\n",
      "Epoch 3/10\n",
      "1/1 [==============================] - 5s 5s/step - loss: 2.3837 - accuracy: 0.4062 - val_loss: 1.2523 - val_accuracy: 0.3474\n",
      "Epoch 4/10\n",
      "1/1 [==============================] - 5s 5s/step - loss: 1.0166 - accuracy: 0.4062 - val_loss: 1.1127 - val_accuracy: 0.3474\n",
      "Epoch 5/10\n",
      "1/1 [==============================] - 5s 5s/step - loss: 0.9805 - accuracy: 0.4062 - val_loss: 1.1238 - val_accuracy: 0.3598\n",
      "Epoch 6/10\n",
      "1/1 [==============================] - 5s 5s/step - loss: 0.9561 - accuracy: 0.5000 - val_loss: 1.1962 - val_accuracy: 0.3598\n",
      "Epoch 7/10\n",
      "1/1 [==============================] - 5s 5s/step - loss: 0.9143 - accuracy: 0.5000 - val_loss: 1.3585 - val_accuracy: 0.3598\n",
      "Epoch 8/10\n",
      "1/1 [==============================] - 5s 5s/step - loss: 0.8913 - accuracy: 0.5000 - val_loss: 1.4864 - val_accuracy: 0.4094\n",
      "Epoch 9/10\n",
      "1/1 [==============================] - 5s 5s/step - loss: 0.8876 - accuracy: 0.6562 - val_loss: 1.4364 - val_accuracy: 0.3846\n",
      "Epoch 10/10\n",
      "1/1 [==============================] - 5s 5s/step - loss: 0.8603 - accuracy: 0.6875 - val_loss: 1.2991 - val_accuracy: 0.4764\n",
      "iteration 2/2, training on max 50 images\n",
      "  1/100 [..............................] - ETA: 16s"
     ]
    },
    {
     "name": "stderr",
     "output_type": "stream",
     "text": [
      "2022-11-29 15:17:29.383050: I tensorflow/core/grappler/optimizers/custom_graph_optimizer_registry.cc:114] Plugin optimizer for device_type GPU is enabled.\n"
     ]
    },
    {
     "name": "stdout",
     "output_type": "stream",
     "text": [
      "100/100 [==============================] - 29s 290ms/step\n",
      "Epoch 1/10\n"
     ]
    },
    {
     "name": "stderr",
     "output_type": "stream",
     "text": [
      "2022-11-29 15:17:59.311706: I tensorflow/core/grappler/optimizers/custom_graph_optimizer_registry.cc:114] Plugin optimizer for device_type GPU is enabled.\n"
     ]
    },
    {
     "name": "stdout",
     "output_type": "stream",
     "text": [
      "1/1 [==============================] - ETA: 0s - loss: 1.2079 - accuracy: 0.3400"
     ]
    },
    {
     "name": "stderr",
     "output_type": "stream",
     "text": [
      "2022-11-29 15:18:01.186875: I tensorflow/core/grappler/optimizers/custom_graph_optimizer_registry.cc:114] Plugin optimizer for device_type GPU is enabled.\n"
     ]
    },
    {
     "name": "stdout",
     "output_type": "stream",
     "text": [
      "1/1 [==============================] - 6s 6s/step - loss: 1.2079 - accuracy: 0.3400 - val_loss: 7.3484 - val_accuracy: 0.3598\n",
      "Epoch 2/10\n",
      "1/1 [==============================] - 6s 6s/step - loss: 6.2242 - accuracy: 0.3800 - val_loss: 1.0892 - val_accuracy: 0.3871\n",
      "Epoch 3/10\n",
      "1/1 [==============================] - 6s 6s/step - loss: 0.9168 - accuracy: 0.6000 - val_loss: 1.1635 - val_accuracy: 0.2928\n",
      "Epoch 4/10\n",
      "1/1 [==============================] - 6s 6s/step - loss: 0.9957 - accuracy: 0.3600 - val_loss: 1.0921 - val_accuracy: 0.3424\n",
      "Epoch 5/10\n",
      "1/1 [==============================] - 6s 6s/step - loss: 0.9152 - accuracy: 0.6200 - val_loss: 1.0696 - val_accuracy: 0.3772\n",
      "Epoch 6/10\n",
      "1/1 [==============================] - 6s 6s/step - loss: 0.8271 - accuracy: 0.6800 - val_loss: 1.0753 - val_accuracy: 0.3648\n",
      "Epoch 7/10\n",
      "1/1 [==============================] - 6s 6s/step - loss: 0.6962 - accuracy: 0.7000 - val_loss: 1.0806 - val_accuracy: 0.4690\n",
      "Epoch 8/10\n",
      "1/1 [==============================] - 6s 6s/step - loss: 0.5661 - accuracy: 0.7800 - val_loss: 1.1999 - val_accuracy: 0.4888\n",
      "Epoch 9/10\n",
      "1/1 [==============================] - 6s 6s/step - loss: 0.4788 - accuracy: 0.7800 - val_loss: 1.3869 - val_accuracy: 0.4913\n",
      "Epoch 10/10\n",
      "1/1 [==============================] - 6s 6s/step - loss: 0.4665 - accuracy: 0.7600 - val_loss: 2.6575 - val_accuracy: 0.4094\n",
      " 1/13 [=>............................] - ETA: 2s"
     ]
    },
    {
     "name": "stderr",
     "output_type": "stream",
     "text": [
      "2022-11-29 15:19:00.106928: I tensorflow/core/grappler/optimizers/custom_graph_optimizer_registry.cc:114] Plugin optimizer for device_type GPU is enabled.\n"
     ]
    },
    {
     "name": "stdout",
     "output_type": "stream",
     "text": [
      "13/13 [==============================] - 4s 288ms/step\n",
      "TRAINING MODEL 2/42 ON 100 IMGS\n",
      "X_train shape: (3228, 224, 224, 3)\n",
      "X_valid & X_test shape: (404, 224, 224, 3)\n",
      "y_train shape: (3228,)\n",
      "y_valid & y_test shape: (404,)\n",
      "iteration 1/4, training on max 100 images\n",
      "  1/101 [..............................] - ETA: 20s"
     ]
    },
    {
     "name": "stderr",
     "output_type": "stream",
     "text": [
      "2022-11-29 15:19:05.007824: I tensorflow/core/grappler/optimizers/custom_graph_optimizer_registry.cc:114] Plugin optimizer for device_type GPU is enabled.\n"
     ]
    },
    {
     "name": "stdout",
     "output_type": "stream",
     "text": [
      "101/101 [==============================] - 32s 318ms/step\n",
      "Epoch 1/10\n"
     ]
    },
    {
     "name": "stderr",
     "output_type": "stream",
     "text": [
      "2022-11-29 15:19:38.827660: I tensorflow/core/grappler/optimizers/custom_graph_optimizer_registry.cc:114] Plugin optimizer for device_type GPU is enabled.\n"
     ]
    },
    {
     "name": "stdout",
     "output_type": "stream",
     "text": [
      "1/1 [==============================] - ETA: 0s - loss: 1.3615 - accuracy: 0.2500"
     ]
    },
    {
     "name": "stderr",
     "output_type": "stream",
     "text": [
      "2022-11-29 15:19:40.347514: I tensorflow/core/grappler/optimizers/custom_graph_optimizer_registry.cc:114] Plugin optimizer for device_type GPU is enabled.\n"
     ]
    },
    {
     "name": "stdout",
     "output_type": "stream",
     "text": [
      "1/1 [==============================] - 7s 7s/step - loss: 1.3615 - accuracy: 0.2500 - val_loss: 9.3383 - val_accuracy: 0.2928\n",
      "Epoch 2/10\n",
      "1/1 [==============================] - 5s 5s/step - loss: 4.1585 - accuracy: 0.6875 - val_loss: 1.5255 - val_accuracy: 0.2928\n",
      "Epoch 3/10\n",
      "1/1 [==============================] - 5s 5s/step - loss: 0.8104 - accuracy: 0.6875 - val_loss: 1.0796 - val_accuracy: 0.4566\n",
      "Epoch 4/10\n",
      "1/1 [==============================] - 5s 5s/step - loss: 1.0726 - accuracy: 0.5625 - val_loss: 1.1121 - val_accuracy: 0.2928\n",
      "Epoch 5/10\n",
      "1/1 [==============================] - 5s 5s/step - loss: 0.9224 - accuracy: 0.6875 - val_loss: 1.2912 - val_accuracy: 0.2928\n",
      "Epoch 6/10\n",
      "1/1 [==============================] - 5s 5s/step - loss: 0.7978 - accuracy: 0.6875 - val_loss: 1.7634 - val_accuracy: 0.2928\n",
      "Epoch 7/10\n",
      "1/1 [==============================] - 5s 5s/step - loss: 0.8572 - accuracy: 0.6875 - val_loss: 1.4908 - val_accuracy: 0.2928\n",
      "Epoch 8/10\n",
      "1/1 [==============================] - 5s 5s/step - loss: 0.7754 - accuracy: 0.6875 - val_loss: 1.2526 - val_accuracy: 0.2928\n",
      "Epoch 9/10\n",
      "1/1 [==============================] - 5s 5s/step - loss: 0.7599 - accuracy: 0.6875 - val_loss: 1.1876 - val_accuracy: 0.2928\n",
      "Epoch 10/10\n",
      "1/1 [==============================] - 5s 5s/step - loss: 0.7585 - accuracy: 0.6875 - val_loss: 1.2087 - val_accuracy: 0.2928\n",
      "iteration 2/4, training on max 100 images\n",
      "  1/100 [..............................] - ETA: 18s"
     ]
    },
    {
     "name": "stderr",
     "output_type": "stream",
     "text": [
      "2022-11-29 15:20:30.060406: I tensorflow/core/grappler/optimizers/custom_graph_optimizer_registry.cc:114] Plugin optimizer for device_type GPU is enabled.\n"
     ]
    },
    {
     "name": "stdout",
     "output_type": "stream",
     "text": [
      "100/100 [==============================] - 29s 290ms/step\n",
      "Epoch 1/10\n"
     ]
    },
    {
     "name": "stderr",
     "output_type": "stream",
     "text": [
      "2022-11-29 15:21:00.205442: I tensorflow/core/grappler/optimizers/custom_graph_optimizer_registry.cc:114] Plugin optimizer for device_type GPU is enabled.\n"
     ]
    },
    {
     "name": "stdout",
     "output_type": "stream",
     "text": [
      "1/1 [==============================] - ETA: 0s - loss: 1.1198 - accuracy: 0.3906"
     ]
    },
    {
     "name": "stderr",
     "output_type": "stream",
     "text": [
      "2022-11-29 15:21:02.429202: I tensorflow/core/grappler/optimizers/custom_graph_optimizer_registry.cc:114] Plugin optimizer for device_type GPU is enabled.\n"
     ]
    },
    {
     "name": "stdout",
     "output_type": "stream",
     "text": [
      "1/1 [==============================] - 7s 7s/step - loss: 1.1198 - accuracy: 0.3906 - val_loss: 4.9852 - val_accuracy: 0.2928\n",
      "Epoch 2/10\n",
      "1/1 [==============================] - 6s 6s/step - loss: 2.7333 - accuracy: 0.3438 - val_loss: 1.3578 - val_accuracy: 0.3598\n",
      "Epoch 3/10\n",
      "1/1 [==============================] - 6s 6s/step - loss: 1.3453 - accuracy: 0.3906 - val_loss: 1.0940 - val_accuracy: 0.4938\n",
      "Epoch 4/10\n",
      "1/1 [==============================] - 6s 6s/step - loss: 1.1072 - accuracy: 0.5312 - val_loss: 1.0590 - val_accuracy: 0.4442\n",
      "Epoch 5/10\n",
      "1/1 [==============================] - 6s 6s/step - loss: 1.0395 - accuracy: 0.5469 - val_loss: 1.0611 - val_accuracy: 0.4243\n",
      "Epoch 6/10\n",
      "1/1 [==============================] - 6s 6s/step - loss: 1.0158 - accuracy: 0.6250 - val_loss: 1.0645 - val_accuracy: 0.5658\n",
      "Epoch 7/10\n",
      "1/1 [==============================] - 6s 6s/step - loss: 0.9917 - accuracy: 0.6875 - val_loss: 1.0654 - val_accuracy: 0.5434\n",
      "Epoch 8/10\n",
      "1/1 [==============================] - 6s 6s/step - loss: 0.9484 - accuracy: 0.6875 - val_loss: 1.0681 - val_accuracy: 0.5335\n",
      "Epoch 9/10\n",
      "1/1 [==============================] - 6s 6s/step - loss: 0.8715 - accuracy: 0.6875 - val_loss: 1.0789 - val_accuracy: 0.5360\n",
      "Epoch 10/10\n",
      "1/1 [==============================] - 7s 7s/step - loss: 0.7573 - accuracy: 0.6875 - val_loss: 1.0309 - val_accuracy: 0.5360\n",
      "iteration 3/4, training on max 100 images\n",
      " 1/99 [..............................] - ETA: 26s"
     ]
    },
    {
     "name": "stderr",
     "output_type": "stream",
     "text": [
      "2022-11-29 15:22:03.342583: I tensorflow/core/grappler/optimizers/custom_graph_optimizer_registry.cc:114] Plugin optimizer for device_type GPU is enabled.\n"
     ]
    },
    {
     "name": "stdout",
     "output_type": "stream",
     "text": [
      "99/99 [==============================] - 30s 298ms/step\n",
      "Epoch 1/10\n"
     ]
    },
    {
     "name": "stderr",
     "output_type": "stream",
     "text": [
      "2022-11-29 15:22:33.896099: I tensorflow/core/grappler/optimizers/custom_graph_optimizer_registry.cc:114] Plugin optimizer for device_type GPU is enabled.\n"
     ]
    },
    {
     "name": "stdout",
     "output_type": "stream",
     "text": [
      "2/2 [==============================] - ETA: 0s - loss: 1.4111 - accuracy: 0.3750"
     ]
    },
    {
     "name": "stderr",
     "output_type": "stream",
     "text": [
      "2022-11-29 15:22:37.296628: I tensorflow/core/grappler/optimizers/custom_graph_optimizer_registry.cc:114] Plugin optimizer for device_type GPU is enabled.\n"
     ]
    },
    {
     "name": "stdout",
     "output_type": "stream",
     "text": [
      "2/2 [==============================] - 8s 5s/step - loss: 1.4111 - accuracy: 0.3750 - val_loss: 2.8395 - val_accuracy: 0.4566\n",
      "Epoch 2/10\n",
      "2/2 [==============================] - 8s 5s/step - loss: 1.8637 - accuracy: 0.5521 - val_loss: 1.1465 - val_accuracy: 0.4739\n",
      "Epoch 3/10\n",
      "2/2 [==============================] - 8s 6s/step - loss: 1.0711 - accuracy: 0.5625 - val_loss: 1.0817 - val_accuracy: 0.5310\n",
      "Epoch 4/10\n",
      "2/2 [==============================] - 8s 5s/step - loss: 1.0444 - accuracy: 0.6458 - val_loss: 1.0560 - val_accuracy: 0.5434\n",
      "Epoch 5/10\n",
      "2/2 [==============================] - 8s 5s/step - loss: 1.0014 - accuracy: 0.6146 - val_loss: 1.0041 - val_accuracy: 0.5186\n",
      "Epoch 6/10\n",
      "2/2 [==============================] - 8s 5s/step - loss: 0.8916 - accuracy: 0.6354 - val_loss: 0.8972 - val_accuracy: 0.5782\n",
      "Epoch 7/10\n",
      "2/2 [==============================] - 8s 5s/step - loss: 0.7322 - accuracy: 0.6146 - val_loss: 1.0366 - val_accuracy: 0.5285\n",
      "Epoch 8/10\n",
      "2/2 [==============================] - 8s 5s/step - loss: 0.6458 - accuracy: 0.7292 - val_loss: 1.3303 - val_accuracy: 0.5707\n",
      "Epoch 9/10\n",
      "2/2 [==============================] - 8s 5s/step - loss: 0.6158 - accuracy: 0.7188 - val_loss: 1.0198 - val_accuracy: 0.5310\n",
      "Epoch 10/10\n",
      "2/2 [==============================] - 8s 5s/step - loss: 0.5414 - accuracy: 0.7812 - val_loss: 0.7954 - val_accuracy: 0.6129\n",
      "iteration 4/4, training on max 100 images\n"
     ]
    },
    {
     "name": "stderr",
     "output_type": "stream",
     "text": [
      "2022-11-29 15:23:52.082935: I tensorflow/core/grappler/optimizers/custom_graph_optimizer_registry.cc:114] Plugin optimizer for device_type GPU is enabled.\n"
     ]
    },
    {
     "name": "stdout",
     "output_type": "stream",
     "text": [
      "98/98 [==============================] - 30s 307ms/step\n",
      "Epoch 1/10\n"
     ]
    },
    {
     "name": "stderr",
     "output_type": "stream",
     "text": [
      "2022-11-29 15:24:24.571244: I tensorflow/core/grappler/optimizers/custom_graph_optimizer_registry.cc:114] Plugin optimizer for device_type GPU is enabled.\n"
     ]
    },
    {
     "name": "stdout",
     "output_type": "stream",
     "text": [
      "2/2 [==============================] - ETA: 0s - loss: 3.0592 - accuracy: 0.2200"
     ]
    },
    {
     "name": "stderr",
     "output_type": "stream",
     "text": [
      "2022-11-29 15:24:28.779012: I tensorflow/core/grappler/optimizers/custom_graph_optimizer_registry.cc:114] Plugin optimizer for device_type GPU is enabled.\n"
     ]
    },
    {
     "name": "stdout",
     "output_type": "stream",
     "text": [
      "2/2 [==============================] - 10s 5s/step - loss: 3.0592 - accuracy: 0.2200 - val_loss: 1.6813 - val_accuracy: 0.3598\n",
      "Epoch 2/10\n",
      "2/2 [==============================] - 8s 5s/step - loss: 1.3417 - accuracy: 0.3800 - val_loss: 1.0904 - val_accuracy: 0.3474\n",
      "Epoch 3/10\n",
      "2/2 [==============================] - 8s 5s/step - loss: 1.0936 - accuracy: 0.3100 - val_loss: 1.0809 - val_accuracy: 0.3474\n",
      "Epoch 4/10\n",
      "2/2 [==============================] - 8s 5s/step - loss: 1.0696 - accuracy: 0.3900 - val_loss: 1.0754 - val_accuracy: 0.5112\n",
      "Epoch 5/10\n",
      "2/2 [==============================] - 8s 5s/step - loss: 1.0426 - accuracy: 0.6900 - val_loss: 1.0460 - val_accuracy: 0.5285\n",
      "Epoch 6/10\n",
      "2/2 [==============================] - 8s 5s/step - loss: 0.9651 - accuracy: 0.6000 - val_loss: 0.9675 - val_accuracy: 0.5211\n",
      "Epoch 7/10\n",
      "2/2 [==============================] - 8s 5s/step - loss: 0.7700 - accuracy: 0.7000 - val_loss: 0.8974 - val_accuracy: 0.5806\n",
      "Epoch 8/10\n",
      "2/2 [==============================] - 8s 5s/step - loss: 0.7570 - accuracy: 0.6000 - val_loss: 1.8029 - val_accuracy: 0.5211\n",
      "Epoch 9/10\n",
      "2/2 [==============================] - 8s 5s/step - loss: 1.0344 - accuracy: 0.6200 - val_loss: 0.8314 - val_accuracy: 0.5707\n",
      "Epoch 10/10\n",
      "2/2 [==============================] - 8s 5s/step - loss: 0.5695 - accuracy: 0.8100 - val_loss: 1.0922 - val_accuracy: 0.4591\n",
      " 1/13 [=>............................] - ETA: 2s"
     ]
    },
    {
     "name": "stderr",
     "output_type": "stream",
     "text": [
      "2022-11-29 15:25:40.968883: I tensorflow/core/grappler/optimizers/custom_graph_optimizer_registry.cc:114] Plugin optimizer for device_type GPU is enabled.\n"
     ]
    },
    {
     "name": "stdout",
     "output_type": "stream",
     "text": [
      "13/13 [==============================] - 4s 285ms/step\n",
      "TRAINING MODEL 3/42 ON 150 IMGS\n",
      "X_train shape: (3228, 224, 224, 3)\n",
      "X_valid & X_test shape: (404, 224, 224, 3)\n",
      "y_train shape: (3228,)\n",
      "y_valid & y_test shape: (404,)\n",
      "iteration 1/5, training on max 150 images\n",
      "  1/101 [..............................] - ETA: 22s"
     ]
    },
    {
     "name": "stderr",
     "output_type": "stream",
     "text": [
      "2022-11-29 15:25:45.915469: I tensorflow/core/grappler/optimizers/custom_graph_optimizer_registry.cc:114] Plugin optimizer for device_type GPU is enabled.\n"
     ]
    },
    {
     "name": "stdout",
     "output_type": "stream",
     "text": [
      "101/101 [==============================] - 29s 289ms/step\n",
      "Epoch 1/10\n"
     ]
    },
    {
     "name": "stderr",
     "output_type": "stream",
     "text": [
      "2022-11-29 15:26:16.095484: I tensorflow/core/grappler/optimizers/custom_graph_optimizer_registry.cc:114] Plugin optimizer for device_type GPU is enabled.\n"
     ]
    },
    {
     "name": "stdout",
     "output_type": "stream",
     "text": [
      "1/1 [==============================] - ETA: 0s - loss: 1.0086 - accuracy: 0.4375"
     ]
    },
    {
     "name": "stderr",
     "output_type": "stream",
     "text": [
      "2022-11-29 15:26:17.486481: I tensorflow/core/grappler/optimizers/custom_graph_optimizer_registry.cc:114] Plugin optimizer for device_type GPU is enabled.\n"
     ]
    },
    {
     "name": "stdout",
     "output_type": "stream",
     "text": [
      "1/1 [==============================] - 6s 6s/step - loss: 1.0086 - accuracy: 0.4375 - val_loss: 10.8558 - val_accuracy: 0.3598\n",
      "Epoch 2/10\n",
      "1/1 [==============================] - 6s 6s/step - loss: 6.0490 - accuracy: 0.5312 - val_loss: 2.8309 - val_accuracy: 0.3474\n",
      "Epoch 3/10\n",
      "1/1 [==============================] - 6s 6s/step - loss: 2.3222 - accuracy: 0.3750 - val_loss: 1.1252 - val_accuracy: 0.3474\n",
      "Epoch 4/10\n",
      "1/1 [==============================] - 6s 6s/step - loss: 0.9527 - accuracy: 0.3750 - val_loss: 1.1153 - val_accuracy: 0.3598\n",
      "Epoch 5/10\n",
      "1/1 [==============================] - 6s 6s/step - loss: 0.9596 - accuracy: 0.5312 - val_loss: 1.1636 - val_accuracy: 0.3598\n",
      "Epoch 6/10\n",
      "1/1 [==============================] - 6s 6s/step - loss: 0.9364 - accuracy: 0.5312 - val_loss: 1.2346 - val_accuracy: 0.3598\n",
      "Epoch 7/10\n",
      "1/1 [==============================] - 6s 6s/step - loss: 0.9019 - accuracy: 0.5312 - val_loss: 1.2950 - val_accuracy: 0.3598\n",
      "Epoch 8/10\n",
      "1/1 [==============================] - 6s 6s/step - loss: 0.8710 - accuracy: 0.5312 - val_loss: 1.3320 - val_accuracy: 0.3424\n",
      "Epoch 9/10\n",
      "1/1 [==============================] - ETA: 0s - loss: 0.8514 - accuracy: 0.7188"
     ]
    }
   ],
   "source": [
    "for i, max_imgs in enumerate(steps):\n",
    "    print(f\"TRAINING MODEL {i+1}/{len(steps)} ON {max_imgs} IMGS\")\n",
    "    model = Model(\"vgg16\", dataset)\n",
    "    models.append(model)\n",
    "\n",
    "    model.train_al(max_imgs=max_imgs, strategy=uncertainty).test().clean_full()\n",
    "\n",
    "    with open(\"results/al_learn/al_learn_acc_graph_checkpoints.txt\", \"a+\") as f:\n",
    "        f.write(f\"{str(models[-1])}\\n\")\n",
    "    plt.suptitle(\"Accuracy graph (VGG16)\")\n",
    "    plt.xlabel(\"Used samples\")\n",
    "    plt.ylabel(\"Accuracy\")\n",
    "    plt.plot([sum(m.used) for m in models], [m.acc for m in models])\n",
    "    plt.savefig(\"results/al_learn/al_learn_acc_graph.png\")"
   ]
  },
  {
   "cell_type": "code",
   "execution_count": null,
   "id": "242c3083-4bb7-4891-9bcf-fb7159feb162",
   "metadata": {},
   "outputs": [],
   "source": []
  },
  {
   "cell_type": "code",
   "execution_count": null,
   "id": "8f2e29dd-4df5-4e13-9fc3-39ee36dfc720",
   "metadata": {},
   "outputs": [],
   "source": []
  },
  {
   "cell_type": "code",
   "execution_count": null,
   "id": "c743a411-031c-4974-837d-96995c085c21",
   "metadata": {},
   "outputs": [],
   "source": []
  },
  {
   "cell_type": "code",
   "execution_count": null,
   "id": "f19a8615-323b-41be-a119-1cb519b79d13",
   "metadata": {},
   "outputs": [],
   "source": []
  },
  {
   "cell_type": "code",
   "execution_count": null,
   "id": "2dd1e798-a086-4da9-99a7-8258df16e0f5",
   "metadata": {},
   "outputs": [],
   "source": []
  },
  {
   "cell_type": "code",
   "execution_count": null,
   "id": "b6e640cd-833d-4568-8481-b1d77d022a2f",
   "metadata": {},
   "outputs": [],
   "source": []
  }
 ],
 "metadata": {
  "kernelspec": {
   "display_name": "Python 3 (ipykernel)",
   "language": "python",
   "name": "python3"
  },
  "language_info": {
   "codemirror_mode": {
    "name": "ipython",
    "version": 3
   },
   "file_extension": ".py",
   "mimetype": "text/x-python",
   "name": "python",
   "nbconvert_exporter": "python",
   "pygments_lexer": "ipython3",
   "version": "3.10.6"
  }
 },
 "nbformat": 4,
 "nbformat_minor": 5
}
