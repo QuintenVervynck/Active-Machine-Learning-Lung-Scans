{
 "cells": [
  {
   "cell_type": "code",
   "execution_count": 1,
   "id": "bab8e78b-ed29-4df9-b236-d80a9d8d0983",
   "metadata": {},
   "outputs": [],
   "source": [
    "import numpy as np\n",
    "import matplotlib.pyplot as plt\n",
    "\n",
    "from lib.dataset import Dataset\n",
    "from lib.model import Model\n",
    "from lib.queries import uncertainty"
   ]
  },
  {
   "cell_type": "code",
   "execution_count": 2,
   "id": "3255d977-cb6b-4ad0-9a18-74e4b6c2e1ce",
   "metadata": {},
   "outputs": [
    {
     "name": "stdout",
     "output_type": "stream",
     "text": [
      "AL LEARN ACC GRAPH\n",
      "Loading local preprocessed dataset...\n",
      "Finished\n"
     ]
    }
   ],
   "source": [
    "print(\"AL LEARN ACC GRAPH\")\n",
    "dataset = Dataset()\n",
    "\n",
    "steps = [i for i in range(50, 1050, 50)] + [i for i in range(1100, 3201, 100)]\n",
    "models = []"
   ]
  },
  {
   "cell_type": "code",
   "execution_count": 3,
   "id": "5dbc5cd7-9a2f-4c38-9250-d0d1f69015ab",
   "metadata": {},
   "outputs": [
    {
     "name": "stdout",
     "output_type": "stream",
     "text": [
      "TRAINING MODEL 1/42 ON 50 IMGS\n",
      "X_train shape: (3228, 224, 224, 3)\n",
      "X_valid & X_test shape: (404, 224, 224, 3)\n",
      "y_train shape: (3228,)\n",
      "y_valid & y_test shape: (404,)\n",
      "iteration 1/2, training on 32 images (max 50)\n"
     ]
    },
    {
     "ename": "",
     "evalue": "",
     "output_type": "error",
     "traceback": [
      "\u001b[1;31mCanceled future for execute_request message before replies were done"
     ]
    },
    {
     "ename": "",
     "evalue": "",
     "output_type": "error",
     "traceback": [
      "\u001b[1;31mThe Kernel crashed while executing code in the the current cell or a previous cell. Please review the code in the cell(s) to identify a possible cause of the failure. Click <a href='https://aka.ms/vscodeJupyterKernelCrash'>here</a> for more info. View Jupyter <a href='command:jupyter.viewOutput'>log</a> for further details."
     ]
    }
   ],
   "source": [
    "for i, max_imgs in enumerate(steps):\n",
    "    print(f\"TRAINING MODEL {i+1}/{len(steps)} ON {max_imgs} IMGS\")\n",
    "    model = Model(\"vgg16\", dataset)\n",
    "    models.append(model)\n",
    "\n",
    "    model.train_al(max_imgs=max_imgs, strategy=uncertainty).test().clean_full()\n",
    "\n",
    "    with open(\"results/al_learn/al_learn_acc_graph_checkpoints.txt\", \"a+\") as f:\n",
    "        f.write(f\"{str(models[-1])}\\n\")\n",
    "    plt.suptitle(\"Accuracy graph (VGG16)\")\n",
    "    plt.xlabel(\"Used samples\")\n",
    "    plt.ylabel(\"Accuracy\")\n",
    "    plt.plot([sum(m.used) for m in models], [m.acc for m in models])\n",
    "    plt.savefig(\"results/al_learn/al_learn_acc_graph.png\")"
   ]
  },
  {
   "cell_type": "code",
   "execution_count": null,
   "id": "242c3083-4bb7-4891-9bcf-fb7159feb162",
   "metadata": {},
   "outputs": [],
   "source": []
  },
  {
   "cell_type": "code",
   "execution_count": null,
   "id": "8f2e29dd-4df5-4e13-9fc3-39ee36dfc720",
   "metadata": {},
   "outputs": [],
   "source": []
  },
  {
   "cell_type": "code",
   "execution_count": null,
   "id": "c743a411-031c-4974-837d-96995c085c21",
   "metadata": {},
   "outputs": [],
   "source": []
  },
  {
   "cell_type": "code",
   "execution_count": null,
   "id": "f19a8615-323b-41be-a119-1cb519b79d13",
   "metadata": {},
   "outputs": [],
   "source": []
  },
  {
   "cell_type": "code",
   "execution_count": null,
   "id": "2dd1e798-a086-4da9-99a7-8258df16e0f5",
   "metadata": {},
   "outputs": [],
   "source": []
  },
  {
   "cell_type": "code",
   "execution_count": null,
   "id": "b6e640cd-833d-4568-8481-b1d77d022a2f",
   "metadata": {},
   "outputs": [],
   "source": []
  }
 ],
 "metadata": {
  "kernelspec": {
   "display_name": "Python 3.10.8 64-bit",
   "language": "python",
   "name": "python3"
  },
  "language_info": {
   "codemirror_mode": {
    "name": "ipython",
    "version": 3
   },
   "file_extension": ".py",
   "mimetype": "text/x-python",
   "name": "python",
   "nbconvert_exporter": "python",
   "pygments_lexer": "ipython3",
   "version": "3.10.8"
  },
  "vscode": {
   "interpreter": {
    "hash": "45369b7f23f581d639014cef0fc0af01881539921285744ef5b5322dc6b328ec"
   }
  }
 },
 "nbformat": 4,
 "nbformat_minor": 5
}
